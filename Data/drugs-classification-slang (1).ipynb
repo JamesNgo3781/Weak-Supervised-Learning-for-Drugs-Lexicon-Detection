{
 "cells": [
  {
   "cell_type": "markdown",
   "metadata": {},
   "source": [
    "# Classify Drugs in Slang <a id='top'></a>\n",
    "\n",
    "***\n",
    "\n",
    "## Table of Contents\n",
    "\n",
    "1. [Introduction](#intro)\n",
    "2. [Data Preparation](#data-prep)\n",
    "    1. [Load Data](#load-data)\n",
    "    2. [Preprocess Data](#preprocess-data)\n",
    "    3. [Clean Data](#clean-data)\n",
    "    4. [Count Word Frequency](#freq-words)\n",
    "3. [Train-Test Split](#split-cv)\n",
    "4. [Bag-of-Words Model](#BoW)\n",
    "    1. [Count Vectorizer](#CountVectorizer)\n",
    "        1. [Naive Bayes](#nb)\n",
    "        2. [Evaluation Metrics](#evaluate)\n",
    "    2. [N-grams](#N-grams)\n",
    "    3. [Term Frequency - Inverse Document Frequency (Tfidf)](#TfidfVectorizer)\n",
    "    4. [Hashing Vectorizer](#HashingVectorizer)\n",
    "5. [Cross Validation](#cross-val)\n",
    "6. [Hyper-Parameter Tuning with Grid Search](#gridsearch)\n",
    "7. [Pipelining](#pipe)\n",
    "8. [Put everything in Feature Union](#union)\n",
    "9. [Examine Grid Search Results](#results)\n",
    "10. [Train Best Combinations & Plot Results](#plot-best)\n",
    "11. [Optimize Best Model](#optim-best)\n",
    "    1. [Most Important Features](#feats)\n",
    "12. [Export Data](#export)\n",
    "\n",
    "## Introduction <a id='intro'></a>\n",
    "\n",
    "In this project, we will apply Natural Language Processing (NLP) using Python to identify and classify drugs in slang phrases. This NLP study will use Python NLTK library. NLTK is a popular Python library which is used for NLP.\n",
    "\n",
    "NLP is about developing applications and services that are able to understand human languages. Practical examples of natural language processing (NLP) like speech recognition, speech translation, understanding complete sentences, understanding synonyms of matching words, and writing complete grammatically correct sentences and paragraphs.\n",
    "\n",
    "About the dataset and the project goal:\n",
    "\n",
    "* The dataset contains several words on Urban Dictionary of drugs slang. These are some of the terms scraped from the most common section, but there should be more in the future.\n",
    "* There are 29 classes of drugs type that we need to classify these slangs into. However, since the classes are very imbalanced in the current data set and there is only a very small portion of the drug types slang in the data set, we will try to classify phrases into the following 5 classes:\n",
    "\n",
    "    1. `1': Terms relevant to drugs\n",
    "    2. `2`: Terms not relevant to drugs"
   ]
  },
  {
   "cell_type": "markdown",
   "metadata": {},
   "source": [
    "[Go to the top](#top)\n",
    "\n",
    "## Data Preparation <a id='data-prep'></a>\n",
    "\n",
    "### Load Data <a id='load-data'></a>\n",
    "\n",
    "Read the data into a `Pandas` dataframe using the `read_csv` function."
   ]
  },
  {
   "cell_type": "code",
   "execution_count": 6,
   "metadata": {},
   "outputs": [
    {
     "name": "stderr",
     "output_type": "stream",
     "text": [
      "[nltk_data] Downloading package stopwords to\n",
      "[nltk_data]     C:\\Users\\ngohi\\AppData\\Roaming\\nltk_data...\n",
      "[nltk_data]   Package stopwords is already up-to-date!\n",
      "[nltk_data] Downloading package punkt to\n",
      "[nltk_data]     C:\\Users\\ngohi\\AppData\\Roaming\\nltk_data...\n",
      "[nltk_data]   Package punkt is already up-to-date!\n"
     ]
    },
    {
     "data": {
      "text/html": [
       "        <script type=\"text/javascript\">\n",
       "        window.PlotlyConfig = {MathJaxConfig: 'local'};\n",
       "        if (window.MathJax) {MathJax.Hub.Config({SVG: {font: \"STIX-Web\"}});}\n",
       "        if (typeof require !== 'undefined') {\n",
       "        require.undef(\"plotly\");\n",
       "        requirejs.config({\n",
       "            paths: {\n",
       "                'plotly': ['https://cdn.plot.ly/plotly-latest.min']\n",
       "            }\n",
       "        });\n",
       "        require(['plotly'], function(Plotly) {\n",
       "            window._Plotly = Plotly;\n",
       "        });\n",
       "        }\n",
       "        </script>\n",
       "        "
      ]
     },
     "metadata": {},
     "output_type": "display_data"
    },
    {
     "data": {
      "text/html": [
       "        <script type=\"text/javascript\">\n",
       "        window.PlotlyConfig = {MathJaxConfig: 'local'};\n",
       "        if (window.MathJax) {MathJax.Hub.Config({SVG: {font: \"STIX-Web\"}});}\n",
       "        if (typeof require !== 'undefined') {\n",
       "        require.undef(\"plotly\");\n",
       "        requirejs.config({\n",
       "            paths: {\n",
       "                'plotly': ['https://cdn.plot.ly/plotly-latest.min']\n",
       "            }\n",
       "        });\n",
       "        require(['plotly'], function(Plotly) {\n",
       "            window._Plotly = Plotly;\n",
       "        });\n",
       "        }\n",
       "        </script>\n",
       "        "
      ]
     },
     "metadata": {},
     "output_type": "display_data"
    }
   ],
   "source": [
    "# Import the required libraries.\n",
    "import numpy as np\n",
    "import pandas as pd\n",
    "import matplotlib.pyplot as plt\n",
    "\n",
    "import nltk\n",
    "nltk.download('stopwords')\n",
    "nltk.download('punkt')\n",
    "from nltk.corpus import stopwords\n",
    "from nltk.stem.snowball import SnowballStemmer\n",
    "from sklearn.feature_extraction.text import CountVectorizer\n",
    "from sklearn.feature_extraction.text import TfidfVectorizer\n",
    "from sklearn.feature_extraction.text import HashingVectorizer\n",
    "\n",
    "from sklearn.model_selection import train_test_split\n",
    "from sklearn.model_selection import StratifiedKFold, cross_val_score\n",
    "from sklearn.model_selection import GridSearchCV\n",
    "from sklearn.pipeline import Pipeline, FeatureUnion\n",
    "from sklearn.naive_bayes import GaussianNB\n",
    "from sklearn.linear_model import LogisticRegression\n",
    "from sklearn.svm import SVC\n",
    "from sklearn.neighbors import KNeighborsClassifier\n",
    "from sklearn.tree import DecisionTreeClassifier\n",
    "from sklearn.ensemble import ExtraTreesClassifier, AdaBoostClassifier\n",
    "from sklearn.metrics import confusion_matrix\n",
    "from sklearn.metrics import classification_report\n",
    "from sklearn.metrics import plot_confusion_matrix\n",
    "\n",
    "import plotly.graph_objs as go\n",
    "from plotly.offline import init_notebook_mode, iplot, download_plotlyjs\n",
    "import cufflinks as cf\n",
    "import plotly.express as px\n",
    "init_notebook_mode(connected=True)\n",
    "cf.go_offline()\n",
    "\n",
    "import re\n",
    "\n",
    "from tqdm import tqdm\n",
    "\n",
    "import time\n",
    "\n",
    "import warnings\n",
    "warnings.filterwarnings('ignore')"
   ]
  },
  {
   "cell_type": "code",
   "execution_count": 7,
   "metadata": {},
   "outputs": [
    {
     "name": "stdout",
     "output_type": "stream",
     "text": [
      "<class 'pandas.core.frame.DataFrame'>\n",
      "RangeIndex: 2999 entries, 0 to 2998\n",
      "Data columns (total 4 columns):\n",
      " #   Column     Non-Null Count  Dtype \n",
      "---  ------     --------------  ----- \n",
      " 0   <empty_1>  2999 non-null   int64 \n",
      " 1   Word       2999 non-null   object\n",
      " 2   Example    2993 non-null   object\n",
      " 3   Class      2999 non-null   int64 \n",
      "dtypes: int64(2), object(2)\n",
      "memory usage: 93.8+ KB\n",
      "None\n"
     ]
    },
    {
     "data": {
      "text/html": [
       "<div>\n",
       "<style scoped>\n",
       "    .dataframe tbody tr th:only-of-type {\n",
       "        vertical-align: middle;\n",
       "    }\n",
       "\n",
       "    .dataframe tbody tr th {\n",
       "        vertical-align: top;\n",
       "    }\n",
       "\n",
       "    .dataframe thead th {\n",
       "        text-align: right;\n",
       "    }\n",
       "</style>\n",
       "<table border=\"1\" class=\"dataframe\">\n",
       "  <thead>\n",
       "    <tr style=\"text-align: right;\">\n",
       "      <th></th>\n",
       "      <th>&lt;empty_1&gt;</th>\n",
       "      <th>Word</th>\n",
       "      <th>Example</th>\n",
       "      <th>Class</th>\n",
       "    </tr>\n",
       "  </thead>\n",
       "  <tbody>\n",
       "    <tr>\n",
       "      <th>0</th>\n",
       "      <td>1</td>\n",
       "      <td>party</td>\n",
       "      <td>n. a social atmosphere that includes mixin' an...</td>\n",
       "      <td>1</td>\n",
       "    </tr>\n",
       "    <tr>\n",
       "      <th>1</th>\n",
       "      <td>2</td>\n",
       "      <td>bud</td>\n",
       "      <td>marajuana</td>\n",
       "      <td>1</td>\n",
       "    </tr>\n",
       "    <tr>\n",
       "      <th>2</th>\n",
       "      <td>3</td>\n",
       "      <td>junk</td>\n",
       "      <td>the stuff that you leave lying around on your ...</td>\n",
       "      <td>1</td>\n",
       "    </tr>\n",
       "    <tr>\n",
       "      <th>3</th>\n",
       "      <td>4</td>\n",
       "      <td>faded</td>\n",
       "      <td>piss drunk!</td>\n",
       "      <td>1</td>\n",
       "    </tr>\n",
       "    <tr>\n",
       "      <th>4</th>\n",
       "      <td>5</td>\n",
       "      <td>BYOC</td>\n",
       "      <td>Acronym: Bring Your Own Crap. Similar to [BYOB...</td>\n",
       "      <td>1</td>\n",
       "    </tr>\n",
       "  </tbody>\n",
       "</table>\n",
       "</div>"
      ],
      "text/plain": [
       "   <empty_1>   Word                                            Example  Class\n",
       "0          1  party  n. a social atmosphere that includes mixin' an...      1\n",
       "1          2    bud                                          marajuana      1\n",
       "2          3   junk  the stuff that you leave lying around on your ...      1\n",
       "3          4  faded                                        piss drunk!      1\n",
       "4          5   BYOC  Acronym: Bring Your Own Crap. Similar to [BYOB...      1"
      ]
     },
     "execution_count": 7,
     "metadata": {},
     "output_type": "execute_result"
    }
   ],
   "source": [
    "# Read the dataset.\n",
    "dataset = pd.read_csv('urban-data.csv')\n",
    "\n",
    "# Get the info of our dataset.\n",
    "print(dataset.info())\n",
    "\n",
    "# Show the first rows.\n",
    "dataset.head()"
   ]
  },
  {
   "cell_type": "markdown",
   "metadata": {},
   "source": [
    "[Go to the top](#top)\n",
    "\n",
    "### Preprocess Data <a id='preprocess-data'></a>\n"
   ]
  },
  {
   "cell_type": "code",
   "execution_count": null,
   "metadata": {},
   "outputs": [],
   "source": []
  },
  {
   "cell_type": "markdown",
   "metadata": {},
   "source": [
    "Once we look carefully at our data, we can find two problems:\n",
    "\n",
    "1. Target variable `Class` is text and should be transformed to number. Most machine learning models require numbers in order to work without errors. The easiest way is to convert the numerical type to categorical.\n",
    "2. Our dataset suffers from order. It is very important that our dataset is shuffled well to avoid any element of bias/patterns in the split datasets before training the machine learning models."
   ]
  },
  {
   "cell_type": "code",
   "execution_count": 8,
   "metadata": {},
   "outputs": [
    {
     "data": {
      "text/html": [
       "<div>\n",
       "<style scoped>\n",
       "    .dataframe tbody tr th:only-of-type {\n",
       "        vertical-align: middle;\n",
       "    }\n",
       "\n",
       "    .dataframe tbody tr th {\n",
       "        vertical-align: top;\n",
       "    }\n",
       "\n",
       "    .dataframe thead th {\n",
       "        text-align: right;\n",
       "    }\n",
       "</style>\n",
       "<table border=\"1\" class=\"dataframe\">\n",
       "  <thead>\n",
       "    <tr style=\"text-align: right;\">\n",
       "      <th></th>\n",
       "      <th>&lt;empty_1&gt;</th>\n",
       "      <th>Word</th>\n",
       "      <th>Example</th>\n",
       "      <th>Class</th>\n",
       "    </tr>\n",
       "  </thead>\n",
       "  <tbody>\n",
       "    <tr>\n",
       "      <th>0</th>\n",
       "      <td>2430</td>\n",
       "      <td>slizzard</td>\n",
       "      <td>A gentler 'krunk'. Probably a result of too mu...</td>\n",
       "      <td>2</td>\n",
       "    </tr>\n",
       "    <tr>\n",
       "      <th>1</th>\n",
       "      <td>2387</td>\n",
       "      <td>around</td>\n",
       "      <td>a hoe that been wit too many dudes</td>\n",
       "      <td>2</td>\n",
       "    </tr>\n",
       "    <tr>\n",
       "      <th>2</th>\n",
       "      <td>1966</td>\n",
       "      <td>who`</td>\n",
       "      <td>just a fun lil pal.</td>\n",
       "      <td>2</td>\n",
       "    </tr>\n",
       "    <tr>\n",
       "      <th>3</th>\n",
       "      <td>1699</td>\n",
       "      <td>nonnock</td>\n",
       "      <td>A bizarre insult that doesn't have any particu...</td>\n",
       "      <td>2</td>\n",
       "    </tr>\n",
       "    <tr>\n",
       "      <th>4</th>\n",
       "      <td>1201</td>\n",
       "      <td>cootchie cutter</td>\n",
       "      <td>Pants or shorts that fit tightly across one's ...</td>\n",
       "      <td>2</td>\n",
       "    </tr>\n",
       "  </tbody>\n",
       "</table>\n",
       "</div>"
      ],
      "text/plain": [
       "   <empty_1>             Word  \\\n",
       "0       2430         slizzard   \n",
       "1       2387           around   \n",
       "2       1966             who`   \n",
       "3       1699          nonnock   \n",
       "4       1201  cootchie cutter   \n",
       "\n",
       "                                             Example Class  \n",
       "0  A gentler 'krunk'. Probably a result of too mu...     2  \n",
       "1                 a hoe that been wit too many dudes     2  \n",
       "2                                just a fun lil pal.     2  \n",
       "3  A bizarre insult that doesn't have any particu...     2  \n",
       "4  Pants or shorts that fit tightly across one's ...     2  "
      ]
     },
     "execution_count": 8,
     "metadata": {},
     "output_type": "execute_result"
    }
   ],
   "source": [
    "\n",
    "# The frac keyword argument specifies the fraction of rows to return in the random sample,\n",
    "# so frac=1 means return all rows (in random order).\n",
    "# To shuffle the dataframe in-place and reset the index,\n",
    "# specify drop=True to prevent .reset_index\n",
    "# from creating a column containing the old index entries.\n",
    "dataset = dataset.sample(frac=1, random_state=5).reset_index(drop=True)\n",
    "\n",
    "# Encode object 'Class' to categorical.\n",
    "dataset['Class'] = dataset['Class'].astype('category')\n",
    "\n",
    "# Show the first rows.\n",
    "dataset.head()"
   ]
  },
  {
   "cell_type": "markdown",
   "metadata": {},
   "source": [
    "[Go to the top](#top)\n",
    "\n",
    "### Clean Data <a id='clean-data'></a>\n",
    "\n",
    "The following 3 important steps will be implemented:\n",
    "\n",
    "1. Lower-casing: The entire text will be converted into lower case, so that captialization is ignored (e.g., IndIcaTE is treated the same as Indicate).\n",
    "2. Normalizing Numbers: All numbers will be replaced with the text “number”.\n",
    "3. Removal of non-words and of punctuation: Non-words and punctuation will be removed. All white spaces (tabs, newlines, spaces) will all be trimmed to a single space character.\n",
    "4. Tokenization: Tokenization is the act of breaking up a sequence of strings into pieces such as words, keywords, phrases, symbols and other elements called tokens. Tokens can be individual words, phrases or even whole sentences. In the process of tokenization, some characters like punctuation marks are discarded. The tokens become the input for another process like parsing and text mining. Then the words will be ready to be encoded as integers or floating point values for use as input to a machine learning algorithms, called feature extraction (or vectorization).\n",
    "5. Word Stemming: Words are reduced to their stemmed form. For example, “discount”, “discounts”, “discounted” and “discounting” will be all replaced with “discount”. Sometimes, the Stemmer actually strips off additional characters from the end, so “include”, “includes”, “included”, and “including” are all replaced with “includ”.\n",
    "6. Remove StopWords: Stop words are so frequently used that for many tasks (but not all), they don't carry much information. Examples are \"any\", \"all\", \"what\"... NLTK has an inbuilt corpus of english stopwords that can be loaded and used. Using that corpus, create a list of english stopwords.\n",
    "7. Additional text preparation steps, such as Normalizing Links and Emails: All https and http links will be replaced with the text \"link\" and all emails will be replaced with the text \"email\"."
   ]
  },
  {
   "cell_type": "code",
   "execution_count": 9,
   "metadata": {},
   "outputs": [
    {
     "name": "stderr",
     "output_type": "stream",
     "text": [
      "100%|██████████| 2999/2999 [00:10<00:00, 294.09it/s]\n"
     ]
    }
   ],
   "source": [
    "# Create and register a new 'tqdm' instance with Pandas.\n",
    "tqdm.pandas()\n",
    "\n",
    "# Create a function to clean and prepare text.\n",
    "def preproces_text(slang):\n",
    "    \"\"\" Remove any punctuation, numbers, newlines, and stopwords.\n",
    "    Convert to lower case.\n",
    "    Split the text string into individual words, stem each word,\n",
    "    and append the stemmed word to words. Make sure there's a single\n",
    "    space between each stemmed word.\n",
    "    Args:\n",
    "        slang: the text of slang phrase, string\n",
    "    Returns:\n",
    "        words: the cleaned text, string\n",
    "    \"\"\"\n",
    "    \n",
    "    # Remove numbers.\n",
    "    slang = re.sub('\\d+', ' ', str(slang))\n",
    "    \n",
    "    # Replace newlines with spaces.\n",
    "    slang = re.sub('\\n', ' ', slang)\n",
    "    \n",
    "    # Replace punctuation with spaces.\n",
    "    slang = re.sub(r'[^\\w\\s]', ' ', slang)\n",
    "    \n",
    "    # Replace links.\n",
    "    slang = re.sub('http[s]?://(?:[a-zA-Z]|[0-9]|[$-_@.&+]|[!*\\(\\),]|(?:%[0-9a-fA-F][0-9a-fA-F]))+',\n",
    "                   'link', str(slang), flags=re.MULTILINE)\n",
    "\n",
    "    # Replace emails.\n",
    "    slang = re.sub('\\S+@\\S+', 'email', slang, flags=re.MULTILINE)\n",
    "    \n",
    "    # Convert all letters to lower case.\n",
    "    slang = slang.lower()\n",
    "    \n",
    "    # Tokenizing text.\n",
    "    words = ''\n",
    "    \n",
    "    # Create the stemmer.\n",
    "    stemmer = SnowballStemmer(\"english\")\n",
    "    \n",
    "    # Split text into words.\n",
    "    slang = slang.split()\n",
    "    \n",
    "    for word in slang:\n",
    "        # Remove stopwords.\n",
    "        if word not in set(stopwords.words('english')):\n",
    "            # Stem word.\n",
    "            words = words + stemmer.stem(word) + \" \"\n",
    "    \n",
    "    return words\n",
    "\n",
    "# Apply the cleaning function to the dataset.\n",
    "dataset['Example'] = dataset['Example'].progress_apply(preproces_text)"
   ]
  },
  {
   "cell_type": "code",
   "execution_count": 10,
   "metadata": {},
   "outputs": [
    {
     "data": {
      "text/plain": [
       "'often use describ extrem aggress punch action one person anoth fight '"
      ]
     },
     "execution_count": 10,
     "metadata": {},
     "output_type": "execute_result"
    }
   ],
   "source": [
    "# Output a sample review of the cleaned text.\n",
    "dataset.Example.iloc[53]"
   ]
  },
  {
   "cell_type": "markdown",
   "metadata": {},
   "source": [
    "[Go to the top](#top)\n",
    "\n",
    "### Count Word Frequency <a id='freq-words'></a>\n",
    "\n",
    "Find the most-used words in our slang and count how often they are used."
   ]
  },
  {
   "cell_type": "code",
   "execution_count": 23,
   "metadata": {},
   "outputs": [
    {
     "name": "stdout",
     "output_type": "stream",
     "text": [
      "use                  347\n",
      "one                  247\n",
      "person               205\n",
      "someon               189\n",
      "someth               168\n",
      "word                 148\n",
      "sex                  133\n",
      "term                 133\n",
      "see                  129\n",
      "n                    122\n",
      "also                 112\n",
      "like                 111\n",
      "get                  99\n",
      "usual                98\n",
      "fuck                 94\n",
      "slang                85\n",
      "ass                  82\n",
      "femal                78\n",
      "mean                 76\n",
      "act                  76\n"
     ]
    },
    {
     "data": {
      "image/png": "[encoded data removed]",
      "text/plain": [
       "<Figure size 1008x360 with 1 Axes>"
      ]
     },
     "metadata": {
      "needs_background": "light"
     },
     "output_type": "display_data"
    },
    {
     "data": {
      "text/plain": [
       "<matplotlib.axes._subplots.AxesSubplot at 0x24dae222730>"
      ]
     },
     "execution_count": 23,
     "metadata": {},
     "output_type": "execute_result"
    }
   ],
   "source": [
    "# Calculate the frequency distribution.\n",
    "words = nltk.tokenize.word_tokenize(dataset['Example'].str.cat(sep=' '))\n",
    "fdist = nltk.FreqDist(words)\n",
    "\n",
    "# Output top 20 words.\n",
    "for word, frequency in fdist.most_common(20):\n",
    "    print('{0:20s} {1:d}'.format(word, frequency))\n",
    "\n",
    "# Plot the frequency of 50 words.\n",
    "plt.figure(figsize=(14, 5))\n",
    "fdist.plot(50)"
   ]
  },
  {
   "cell_type": "markdown",
   "metadata": {},
   "source": [
    "[Go to the top](#top)\n",
    "\n",
    "## Train-Test Split <a id='split-cv'></a>\n",
    "\n",
    "Split the dataset into training and test sets. The shuffle parameter is applied to `shuffle` the data before splitting. The `stratify` parameter makes a split so that the proportion of values in the sample produced will be the same as the proportion of values provided to parameter stratify. For example, if variable y is a binary categorical variable with values 0 and 1 and there are 20% of zeros and 80% of ones, `stratify=y` will make sure that the random split has 20% of 0's and 80% of 1's."
   ]
  },
  {
   "cell_type": "code",
   "execution_count": 22,
   "metadata": {},
   "outputs": [],
   "source": [
    "# Define X and y.\n",
    "X = dataset.Example\n",
    "y = dataset.Class\n",
    "\n",
    "# Split the dataset into train and test sets.\n",
    "X_train, X_test, y_train, y_test = train_test_split(X, y,\n",
    "                                                    test_size = 0.20,\n",
    "                                                    random_state = 0,\n",
    "                                                    shuffle = True,\n",
    "                                                    stratify = y)"
   ]
  },
  {
   "cell_type": "markdown",
   "metadata": {},
   "source": [
    "[Go to the top](#top)\n",
    "\n",
    "## Bag-of-Words Model <a id='BoW'></a>\n",
    "\n",
    "We cannot work with text directly when using machine learning algorithms. Instead, we need to convert the text to numbers. Algorithms take vectors of numbers as input, therefore we need to convert documents to fixed-length vectors of numbers. A simple and effective model for thinking about text documents in machine learning is called the Bag-of-Words Model, or BoW.\n",
    "\n",
    "The model is simple in that it throws away all of the order information in the words and focuses on the occurrence of words in a document. This can be done by assigning each word a unique number. Then, any document we see can be encoded as a fixed-length vector with the length of the vocabulary of known words. The value in each position in the vector could be filled with a count or frequency of each word in the encoded document.\n",
    "\n",
    "This is the bag of words model, where we are only concerned with encoding schemes that represent what words are present or the degree to which they are present in encoded documents without any information about order.\n",
    "\n",
    "There are many ways to extend this simple method, both by better clarifying what a “word” is and in defining what to encode about each word in the vector.\n",
    "\n",
    "The `scikit-learn` library provides 3 different schemes to train our model and compare the performance:\n",
    "\n",
    "1. `CountVectorizer`\n",
    "2. `TfidfVectorizer`\n",
    "3. `HashingVectorizer`\n",
    "\n",
    "### Count Vectorizer <a id='CountVectorizer'></a>\n",
    "\n",
    "The `CountVectorizer` provides a simple way to both tokenize a collection of text documents and build a vocabulary of known words, but also to encode new documents using that vocabulary. An encoded vector is returned with a length of the entire vocabulary and an integer count for the number of times each word appeared in the document. Because these vectors will contain a lot of zeros, we call them sparse.\n",
    "\n",
    "Many of the previous manual cleaning can be implemented with `CountVectorizer` automatically, but we have better control and more options when we do it manually."
   ]
  },
  {
   "cell_type": "code",
   "execution_count": 21,
   "metadata": {},
   "outputs": [
    {
     "ename": "AttributeError",
     "evalue": "'numpy.ndarray' object has no attribute 'lower'",
     "output_type": "error",
     "traceback": [
      "\u001b[1;31m---------------------------------------------------------------------------\u001b[0m",
      "\u001b[1;31mAttributeError\u001b[0m                            Traceback (most recent call last)",
      "\u001b[1;32m<ipython-input-21-588c4196dd9c>\u001b[0m in \u001b[0;36m<module>\u001b[1;34m\u001b[0m\n\u001b[0;32m      3\u001b[0m \u001b[1;33m\u001b[0m\u001b[0m\n\u001b[0;32m      4\u001b[0m \u001b[1;31m# Tokenize and build vocabulary to the train set.\u001b[0m\u001b[1;33m\u001b[0m\u001b[1;33m\u001b[0m\u001b[1;33m\u001b[0m\u001b[0m\n\u001b[1;32m----> 5\u001b[1;33m \u001b[0mX_train\u001b[0m \u001b[1;33m=\u001b[0m \u001b[0mdefault_vectorizer\u001b[0m\u001b[1;33m.\u001b[0m\u001b[0mfit_transform\u001b[0m\u001b[1;33m(\u001b[0m\u001b[0mX_train\u001b[0m\u001b[1;33m)\u001b[0m\u001b[1;33m.\u001b[0m\u001b[0mtoarray\u001b[0m\u001b[1;33m(\u001b[0m\u001b[1;33m)\u001b[0m\u001b[1;33m\u001b[0m\u001b[1;33m\u001b[0m\u001b[0m\n\u001b[0m\u001b[0;32m      6\u001b[0m \u001b[1;33m\u001b[0m\u001b[0m\n\u001b[0;32m      7\u001b[0m \u001b[1;31m# Tokenize and build vocabulary to the test set.\u001b[0m\u001b[1;33m\u001b[0m\u001b[1;33m\u001b[0m\u001b[1;33m\u001b[0m\u001b[0m\n",
      "\u001b[1;32mC:\\ProgramData\\Anaconda3\\lib\\site-packages\\sklearn\\feature_extraction\\text.py\u001b[0m in \u001b[0;36mfit_transform\u001b[1;34m(self, raw_documents, y)\u001b[0m\n\u001b[0;32m   1196\u001b[0m         \u001b[0mmax_features\u001b[0m \u001b[1;33m=\u001b[0m \u001b[0mself\u001b[0m\u001b[1;33m.\u001b[0m\u001b[0mmax_features\u001b[0m\u001b[1;33m\u001b[0m\u001b[1;33m\u001b[0m\u001b[0m\n\u001b[0;32m   1197\u001b[0m \u001b[1;33m\u001b[0m\u001b[0m\n\u001b[1;32m-> 1198\u001b[1;33m         vocabulary, X = self._count_vocab(raw_documents,\n\u001b[0m\u001b[0;32m   1199\u001b[0m                                           self.fixed_vocabulary_)\n\u001b[0;32m   1200\u001b[0m \u001b[1;33m\u001b[0m\u001b[0m\n",
      "\u001b[1;32mC:\\ProgramData\\Anaconda3\\lib\\site-packages\\sklearn\\feature_extraction\\text.py\u001b[0m in \u001b[0;36m_count_vocab\u001b[1;34m(self, raw_documents, fixed_vocab)\u001b[0m\n\u001b[0;32m   1108\u001b[0m         \u001b[1;32mfor\u001b[0m \u001b[0mdoc\u001b[0m \u001b[1;32min\u001b[0m \u001b[0mraw_documents\u001b[0m\u001b[1;33m:\u001b[0m\u001b[1;33m\u001b[0m\u001b[1;33m\u001b[0m\u001b[0m\n\u001b[0;32m   1109\u001b[0m             \u001b[0mfeature_counter\u001b[0m \u001b[1;33m=\u001b[0m \u001b[1;33m{\u001b[0m\u001b[1;33m}\u001b[0m\u001b[1;33m\u001b[0m\u001b[1;33m\u001b[0m\u001b[0m\n\u001b[1;32m-> 1110\u001b[1;33m             \u001b[1;32mfor\u001b[0m \u001b[0mfeature\u001b[0m \u001b[1;32min\u001b[0m \u001b[0manalyze\u001b[0m\u001b[1;33m(\u001b[0m\u001b[0mdoc\u001b[0m\u001b[1;33m)\u001b[0m\u001b[1;33m:\u001b[0m\u001b[1;33m\u001b[0m\u001b[1;33m\u001b[0m\u001b[0m\n\u001b[0m\u001b[0;32m   1111\u001b[0m                 \u001b[1;32mtry\u001b[0m\u001b[1;33m:\u001b[0m\u001b[1;33m\u001b[0m\u001b[1;33m\u001b[0m\u001b[0m\n\u001b[0;32m   1112\u001b[0m                     \u001b[0mfeature_idx\u001b[0m \u001b[1;33m=\u001b[0m \u001b[0mvocabulary\u001b[0m\u001b[1;33m[\u001b[0m\u001b[0mfeature\u001b[0m\u001b[1;33m]\u001b[0m\u001b[1;33m\u001b[0m\u001b[1;33m\u001b[0m\u001b[0m\n",
      "\u001b[1;32mC:\\ProgramData\\Anaconda3\\lib\\site-packages\\sklearn\\feature_extraction\\text.py\u001b[0m in \u001b[0;36m_analyze\u001b[1;34m(doc, analyzer, tokenizer, ngrams, preprocessor, decoder, stop_words)\u001b[0m\n\u001b[0;32m    102\u001b[0m     \u001b[1;32melse\u001b[0m\u001b[1;33m:\u001b[0m\u001b[1;33m\u001b[0m\u001b[1;33m\u001b[0m\u001b[0m\n\u001b[0;32m    103\u001b[0m         \u001b[1;32mif\u001b[0m \u001b[0mpreprocessor\u001b[0m \u001b[1;32mis\u001b[0m \u001b[1;32mnot\u001b[0m \u001b[1;32mNone\u001b[0m\u001b[1;33m:\u001b[0m\u001b[1;33m\u001b[0m\u001b[1;33m\u001b[0m\u001b[0m\n\u001b[1;32m--> 104\u001b[1;33m             \u001b[0mdoc\u001b[0m \u001b[1;33m=\u001b[0m \u001b[0mpreprocessor\u001b[0m\u001b[1;33m(\u001b[0m\u001b[0mdoc\u001b[0m\u001b[1;33m)\u001b[0m\u001b[1;33m\u001b[0m\u001b[1;33m\u001b[0m\u001b[0m\n\u001b[0m\u001b[0;32m    105\u001b[0m         \u001b[1;32mif\u001b[0m \u001b[0mtokenizer\u001b[0m \u001b[1;32mis\u001b[0m \u001b[1;32mnot\u001b[0m \u001b[1;32mNone\u001b[0m\u001b[1;33m:\u001b[0m\u001b[1;33m\u001b[0m\u001b[1;33m\u001b[0m\u001b[0m\n\u001b[0;32m    106\u001b[0m             \u001b[0mdoc\u001b[0m \u001b[1;33m=\u001b[0m \u001b[0mtokenizer\u001b[0m\u001b[1;33m(\u001b[0m\u001b[0mdoc\u001b[0m\u001b[1;33m)\u001b[0m\u001b[1;33m\u001b[0m\u001b[1;33m\u001b[0m\u001b[0m\n",
      "\u001b[1;32mC:\\ProgramData\\Anaconda3\\lib\\site-packages\\sklearn\\feature_extraction\\text.py\u001b[0m in \u001b[0;36m_preprocess\u001b[1;34m(doc, accent_function, lower)\u001b[0m\n\u001b[0;32m     67\u001b[0m     \"\"\"\n\u001b[0;32m     68\u001b[0m     \u001b[1;32mif\u001b[0m \u001b[0mlower\u001b[0m\u001b[1;33m:\u001b[0m\u001b[1;33m\u001b[0m\u001b[1;33m\u001b[0m\u001b[0m\n\u001b[1;32m---> 69\u001b[1;33m         \u001b[0mdoc\u001b[0m \u001b[1;33m=\u001b[0m \u001b[0mdoc\u001b[0m\u001b[1;33m.\u001b[0m\u001b[0mlower\u001b[0m\u001b[1;33m(\u001b[0m\u001b[1;33m)\u001b[0m\u001b[1;33m\u001b[0m\u001b[1;33m\u001b[0m\u001b[0m\n\u001b[0m\u001b[0;32m     70\u001b[0m     \u001b[1;32mif\u001b[0m \u001b[0maccent_function\u001b[0m \u001b[1;32mis\u001b[0m \u001b[1;32mnot\u001b[0m \u001b[1;32mNone\u001b[0m\u001b[1;33m:\u001b[0m\u001b[1;33m\u001b[0m\u001b[1;33m\u001b[0m\u001b[0m\n\u001b[0;32m     71\u001b[0m         \u001b[0mdoc\u001b[0m \u001b[1;33m=\u001b[0m \u001b[0maccent_function\u001b[0m\u001b[1;33m(\u001b[0m\u001b[0mdoc\u001b[0m\u001b[1;33m)\u001b[0m\u001b[1;33m\u001b[0m\u001b[1;33m\u001b[0m\u001b[0m\n",
      "\u001b[1;31mAttributeError\u001b[0m: 'numpy.ndarray' object has no attribute 'lower'"
     ]
    }
   ],
   "source": [
    "# Create a default vectorizer.\n",
    "default_vectorizer = CountVectorizer()\n",
    "\n",
    "# Tokenize and build vocabulary to the train set.\n",
    "X_train = default_vectorizer.fit_transform(X_train).toarray()\n",
    "\n",
    "# Tokenize and build vocabulary to the test set.\n",
    "X_test = default_vectorizer.transform(X_test).toarray()"
   ]
  },
  {
   "cell_type": "markdown",
   "metadata": {},
   "source": [
    "[Go to the top](#top)\n",
    "\n",
    "#### Naive Bayes <a id='nb'></a>\n",
    "\n",
    "Fit the Naive Bayes classifier to the training set."
   ]
  },
  {
   "cell_type": "code",
   "execution_count": 9,
   "metadata": {},
   "outputs": [
    {
     "data": {
      "text/plain": [
       "GaussianNB()"
      ]
     },
     "execution_count": 9,
     "metadata": {},
     "output_type": "execute_result"
    }
   ],
   "source": [
    "# Create the classifier.\n",
    "nb = GaussianNB()\n",
    "\n",
    "# Fit to the training set.\n",
    "nb.fit(X_train, y_train)"
   ]
  },
  {
   "cell_type": "markdown",
   "metadata": {},
   "source": [
    "[Go to the top](#top)\n",
    "\n",
    "#### Evaluation Metrics <a id='evaluate'></a>\n",
    "\n",
    "Evaluating a machine learning algorithm is an essential part of any project. A model may give satisfying results when evaluated using accuracy, but may give poor results when evaluated against other metrics such as recall or precision. Some of the different types of evaluation metrics available are:\n",
    "\n",
    "* Accuracy: This is the ratio of number of correct predictions to the total number of input samples. However, the fraction of correct predictions is typically not enough information to evaluate a model. Although it is a starting point, it can lead to invalid decisions. Models with high accuracy may have inadequate precision or recall scores.\n",
    "\n",
    "* Precision: This is the number of correct positive results divided by the number of positive results predicted by the classifier. In other words, this is the ability of the classifier not to label as positive a sample that is negative. The best value is $1$ and the worst value is $0$.\n",
    "\n",
    "* Recall: This is the number of correct positive results divided by the number of all relevant samples (all samples that should have been identified as positive). In other words, this is the ability of the classifier to find all the positive samples. The best value is $1$ and the worst value is $0$.\n",
    "\n",
    "* F1 Score: This is the Harmonic Mean (a weighted average) between precision and recall. The range for F1 Score is [0, 1]. This scores tells how precise a classifier is (how many instances it classifies correctly), as well as how robust it is (it does not miss a significant number of instances). High precision but lower recall, gives an extremely accurate prediction, but it then misses a large number of instances that are difficult to classify. The greater the F1 Score, the better is the performance of our model. The formula for the F1 score is:\n",
    "\n",
    "$$F1 = 2 \\times \\frac{precision \\times recall}{precision + recall}$$\n",
    "\n",
    "**Note:** Some metrics are essentially defined for binary classification tasks (e.g. f1_score, roc_auc_score). In extending a binary metric to multiclass or multilabel problems, the data is treated as a collection of binary problems, one for each class. For more look at sklearn [documentation](https://scikit-learn.org/stable/modules/model_evaluation.html#average)"
   ]
  },
  {
   "cell_type": "code",
   "execution_count": 10,
   "metadata": {},
   "outputs": [
    {
     "name": "stdout",
     "output_type": "stream",
     "text": [
      "\n",
      "Confusion matrix, without normalization\n",
      "[[  5   5]\n",
      " [ 22 568]]\n",
      "\n",
      "Normalized confusion matrix\n",
      "[[0.5        0.5       ]\n",
      " [0.03728814 0.96271186]]\n"
     ]
    },
    {
     "data": {
      "image/png": "[encoded data removed]",
      "text/plain": [
       "<Figure size 432x288 with 2 Axes>"
      ]
     },
     "metadata": {
      "needs_background": "light"
     },
     "output_type": "display_data"
    },
    {
     "data": {
      "image/png": "[encoded data removed]",
      "text/plain": [
       "<Figure size 432x288 with 2 Axes>"
      ]
     },
     "metadata": {
      "needs_background": "light"
     },
     "output_type": "display_data"
    },
    {
     "name": "stdout",
     "output_type": "stream",
     "text": [
      "\n",
      "\n",
      "Precision scores for each object:\n",
      " [0.18518519 0.991274  ]\n",
      "\n",
      "Mean precision score:\n",
      " 0.5882295908473919\n",
      "\n",
      "\n",
      "Recall scores for each object:\n",
      " [0.5        0.96271186]\n",
      "\n",
      "Mean recall score:\n",
      " 0.7313559322033898\n",
      "\n",
      "\n",
      "F1 scores for each object:\n",
      " [0.27027027 0.97678418]\n",
      "\n",
      "Mean F1 score:\n",
      " 0.6235272245590389\n"
     ]
    }
   ],
   "source": [
    "# Create a function to evaluate the performance of the classifiers.\n",
    "def eval_clf(classifier):\n",
    "    # Make predictions.\n",
    "    y_pred = classifier.predict(X_test)\n",
    "\n",
    "    # Plot normalized and non-normalized confusion matrix.\n",
    "    titles_options = [(\"Confusion matrix, without normalization\", None), (\"Normalized confusion matrix\", 'true')]\n",
    "    for title, normalize in titles_options:\n",
    "        disp = plot_confusion_matrix(classifier, X_test, y_test,\n",
    "                                     cmap=plt.cm.Blues,\n",
    "                                     xticks_rotation=45,\n",
    "                                     normalize=normalize)\n",
    "        disp.ax_.set_title(title)\n",
    "        print()\n",
    "        print(title)\n",
    "        print(disp.confusion_matrix)\n",
    "\n",
    "    plt.show()\n",
    "\n",
    "    # Generate evaluation metrics.\n",
    "    cm = confusion_matrix(y_test, y_pred)\n",
    "    precision = np.diag(cm) / np.sum(cm, axis = 0)\n",
    "    recall = np.diag(cm) / np.sum(cm, axis = 1)\n",
    "    f1 = 2 * precision * recall / (precision + recall)\n",
    "\n",
    "    # Print results.\n",
    "    print('\\n')\n",
    "    print('Precision scores for each object:\\n', precision)\n",
    "    print('\\nMean precision score:\\n', precision.mean())\n",
    "    print('\\n')\n",
    "    print('Recall scores for each object:\\n', recall)\n",
    "    print('\\nMean recall score:\\n', recall.mean())\n",
    "    print('\\n')\n",
    "    print('F1 scores for each object:\\n', f1)\n",
    "    print('\\nMean F1 score:\\n', f1.mean())\n",
    "\n",
    "# Evaluate Naive Bayes with the default Count Vectorizer model.\n",
    "eval_clf(nb)"
   ]
  },
  {
   "cell_type": "markdown",
   "metadata": {},
   "source": [
    "**NOTES:**\n",
    "\n",
    "* There are many misclassifications for most of the classes. This is due to the lack of training examples."
   ]
  },
  {
   "cell_type": "markdown",
   "metadata": {},
   "source": [
    "[Go to the top](#top)\n",
    "\n",
    "### N-grams <a id='N-grams'></a>\n",
    "\n",
    "A N-gram is a combination of N number of words treated as a single feature, as opposed to single word features in the Bag of Word. The idea is to extract contextual information and enrich data. For example the word \"good\" is always positive individually but can be negative when preceeded by \"not\". In certain cases, \"not good\" is an informative bigram.\n",
    "N-grams can also be extracted through sklearn's CountVectorizer, but with a specific parameter. Find out how that parameter works and initiate a Bigram (2-gram) vectorizer."
   ]
  },
  {
   "cell_type": "code",
   "execution_count": 11,
   "metadata": {},
   "outputs": [
    {
     "name": "stdout",
     "output_type": "stream",
     "text": [
      "\n",
      "Confusion matrix, without normalization\n",
      "[[  9   1]\n",
      " [350 240]]\n",
      "\n",
      "Normalized confusion matrix\n",
      "[[0.9        0.1       ]\n",
      " [0.59322034 0.40677966]]\n"
     ]
    },
    {
     "data": {
      "image/png": "[encoded data removed]",
      "text/plain": [
       "<Figure size 432x288 with 2 Axes>"
      ]
     },
     "metadata": {
      "needs_background": "light"
     },
     "output_type": "display_data"
    },
    {
     "data": {
      "image/png": "[encoded data removed]",
      "text/plain": [
       "<Figure size 432x288 with 2 Axes>"
      ]
     },
     "metadata": {
      "needs_background": "light"
     },
     "output_type": "display_data"
    },
    {
     "name": "stdout",
     "output_type": "stream",
     "text": [
      "\n",
      "\n",
      "Precision scores for each object:\n",
      " [0.02506964 0.99585062]\n",
      "\n",
      "Mean precision score:\n",
      " 0.5104601301448237\n",
      "\n",
      "\n",
      "Recall scores for each object:\n",
      " [0.9        0.40677966]\n",
      "\n",
      "Mean recall score:\n",
      " 0.6533898305084747\n",
      "\n",
      "\n",
      "F1 scores for each object:\n",
      " [0.04878049 0.57761733]\n",
      "\n",
      "Mean F1 score:\n",
      " 0.31319890816236684\n"
     ]
    }
   ],
   "source": [
    "# Create a bigram vectorizer.\n",
    "bigram_vec = CountVectorizer(ngram_range=(2, 2))\n",
    "\n",
    "# Split the dataset into train and test sets.\n",
    "X_train, X_test, y_train, y_test = train_test_split(X, y,\n",
    "                                                    test_size = 0.20,\n",
    "                                                    random_state = 0,\n",
    "                                                    shuffle = True,\n",
    "                                                    stratify = y)\n",
    "\n",
    "# Tokenize and build vocabulary to the train set.\n",
    "X_train = bigram_vec.fit_transform(X_train).toarray()\n",
    "\n",
    "# Tokenize and build vocabulary to the test set.\n",
    "X_test = bigram_vec.transform(X_test).toarray()\n",
    "\n",
    "# Fit Naive Bayes to the training set.\n",
    "nb = GaussianNB()\n",
    "nb.fit(X_train, y_train)\n",
    "\n",
    "# Evaluate Naive Bayes with a Bigram Count Vectorizer model.\n",
    "eval_clf(nb)"
   ]
  },
  {
   "cell_type": "markdown",
   "metadata": {},
   "source": [
    "[Go to the top](#top)\n",
    "\n",
    "### Term Frequency - Inverse Document Frequency (Tfidf) <a id='TfidfVectorizer'></a>\n",
    "\n",
    "Count vectorizer just counts the word frequencies. Simple as that. An alternative is to calculate word frequencies, and by far the most popular method is called TF-IDF. This is an acronym than stands for “Term Frequency – Inverse Document” Frequency, which are the components of the resulting scores assigned to each word:\n",
    "\n",
    "* TF(t), i.e. Term Frequency: This summarizes how often a given word appears within a document = (Number of times term t appears in a document) / (Total number of terms in the document)\n",
    "\n",
    "\n",
    "\n",
    "* IDF(t), i.e. Inverse Document Frequency: This downscales words that appear a lot across documents = log_e(Total number of documents / Number of documents with term t in it)\n",
    "\n",
    "\n",
    "TF-IDF are word frequency scores that try to highlight words that are more interesting, e.g. frequent in a document but not across documents.\n",
    "\n",
    "In other words, rather than counting occurences, the TfIdf vectorizer computes an importance value for each word in its text and according the entire corpus. That value is the product of the TF and the IDF."
   ]
  },
  {
   "cell_type": "code",
   "execution_count": 12,
   "metadata": {},
   "outputs": [
    {
     "name": "stdout",
     "output_type": "stream",
     "text": [
      "\n",
      "Confusion matrix, without normalization\n",
      "[[  5   5]\n",
      " [ 25 565]]\n",
      "\n",
      "Normalized confusion matrix\n",
      "[[0.5        0.5       ]\n",
      " [0.04237288 0.95762712]]\n"
     ]
    },
    {
     "data": {
      "image/png": "[encoded data removed]",
      "text/plain": [
       "<Figure size 432x288 with 2 Axes>"
      ]
     },
     "metadata": {
      "needs_background": "light"
     },
     "output_type": "display_data"
    },
    {
     "data": {
      "image/png": "[encoded data removed]",
      "text/plain": [
       "<Figure size 432x288 with 2 Axes>"
      ]
     },
     "metadata": {
      "needs_background": "light"
     },
     "output_type": "display_data"
    },
    {
     "name": "stdout",
     "output_type": "stream",
     "text": [
      "\n",
      "\n",
      "Precision scores for each object:\n",
      " [0.16666667 0.99122807]\n",
      "\n",
      "Mean precision score:\n",
      " 0.5789473684210527\n",
      "\n",
      "\n",
      "Recall scores for each object:\n",
      " [0.5        0.95762712]\n",
      "\n",
      "Mean recall score:\n",
      " 0.728813559322034\n",
      "\n",
      "\n",
      "F1 scores for each object:\n",
      " [0.25       0.97413793]\n",
      "\n",
      "Mean F1 score:\n",
      " 0.6120689655172413\n"
     ]
    }
   ],
   "source": [
    "# Create the TF-IDF Vectorizer.\n",
    "tfidf_vec = TfidfVectorizer(sublinear_tf=True,\n",
    "                            max_df=0.5, # Ignoring terms that appear in more than 50% of the documents.\n",
    "                            stop_words='english')\n",
    "\n",
    "# Split the dataset into the train and test sets.\n",
    "X_train, X_test, y_train, y_test = train_test_split(X, y,\n",
    "                                                    test_size = 0.20,\n",
    "                                                    random_state = 0,\n",
    "                                                    shuffle = True,\n",
    "                                                    stratify = y)\n",
    "\n",
    "# Tokenize and build vocabulary to the train set.\n",
    "X_train = tfidf_vec.fit_transform(X_train).toarray()\n",
    "\n",
    "# Tokenize and build vocabulary to the test set.\n",
    "X_test = tfidf_vec.transform(X_test).toarray()\n",
    "\n",
    "# Fit Naive Bayes to the training set.\n",
    "nb = GaussianNB()\n",
    "nb.fit(X_train, y_train)\n",
    "\n",
    "# Evaluate Naive Bayes with the TF-IDF Vectorizer model.\n",
    "eval_clf(nb)"
   ]
  },
  {
   "cell_type": "markdown",
   "metadata": {},
   "source": [
    "**NOTES:**\n",
    "\n",
    "It seems that `TfidfVectorizer` performed better than `CountVectorizer` in our case.\n",
    "\n",
    "Let's find how many different words the TF-IDF model produced."
   ]
  },
  {
   "cell_type": "code",
   "execution_count": 13,
   "metadata": {},
   "outputs": [
    {
     "name": "stdout",
     "output_type": "stream",
     "text": [
      "Number of different words: 4542\n",
      "Word example: abadi\n"
     ]
    }
   ],
   "source": [
    "feature_names = tfidf_vec.get_feature_names()\n",
    "print(\"Number of different words: {0}\".format(len(feature_names)))\n",
    "print(\"Word example: {0}\".format(feature_names[3]))"
   ]
  },
  {
   "cell_type": "code",
   "execution_count": 25,
   "metadata": {},
   "outputs": [
    {
     "ename": "ModuleNotFoundError",
     "evalue": "No module named 'torch'",
     "output_type": "error",
     "traceback": [
      "\u001b[1;31m---------------------------------------------------------------------------\u001b[0m",
      "\u001b[1;31mModuleNotFoundError\u001b[0m                       Traceback (most recent call last)",
      "\u001b[1;32m<ipython-input-25-beb55f24d5ec>\u001b[0m in \u001b[0;36m<module>\u001b[1;34m\u001b[0m\n\u001b[1;32m----> 1\u001b[1;33m \u001b[1;32mimport\u001b[0m \u001b[0mtorch\u001b[0m\u001b[1;33m\u001b[0m\u001b[1;33m\u001b[0m\u001b[0m\n\u001b[0m\u001b[0;32m      2\u001b[0m \u001b[0mprint\u001b[0m\u001b[1;33m(\u001b[0m\u001b[0mtorch\u001b[0m\u001b[1;33m.\u001b[0m\u001b[0m__version__\u001b[0m\u001b[1;33m)\u001b[0m\u001b[1;33m\u001b[0m\u001b[1;33m\u001b[0m\u001b[0m\n",
      "\u001b[1;31mModuleNotFoundError\u001b[0m: No module named 'torch'"
     ]
    }
   ],
   "source": [
    "import torch\n",
    "print(torch.__version__)"
   ]
  },
  {
   "cell_type": "markdown",
   "metadata": {},
   "source": [
    "[Go to the top](#top)\n",
    "\n",
    "### Hashing Vectorizer <a id='HashingVectorizer'></a>\n",
    "\n",
    "Counts and frequencies can be very useful, but one limitation of these methods is that the vocabulary can become very large. This, in turn, will require large vectors for encoding documents and impose large requirements on memory and slow down algorithms.\n",
    "\n",
    "A clever work around is to use a one way hash of words to convert them to integers. The clever part is that no vocabulary is required and you can choose an arbitrary-long fixed length vector. A downside is that the hash is a one-way function so there is no way to convert the encoding back to a word (which may not matter for many supervised learning tasks)."
   ]
  },
  {
   "cell_type": "code",
   "execution_count": 14,
   "metadata": {},
   "outputs": [
    {
     "ename": "MemoryError",
     "evalue": "Unable to allocate 18.7 GiB for an array with shape (2399, 1048576) and data type float64",
     "output_type": "error",
     "traceback": [
      "\u001b[1;31m---------------------------------------------------------------------------\u001b[0m",
      "\u001b[1;31mMemoryError\u001b[0m                               Traceback (most recent call last)",
      "\u001b[1;32m<ipython-input-14-ebba50ddd09a>\u001b[0m in \u001b[0;36m<module>\u001b[1;34m\u001b[0m\n\u001b[0;32m     17\u001b[0m \u001b[1;31m# Fit Naive Bayes to the training set.\u001b[0m\u001b[1;33m\u001b[0m\u001b[1;33m\u001b[0m\u001b[1;33m\u001b[0m\u001b[0m\n\u001b[0;32m     18\u001b[0m \u001b[0mnb\u001b[0m \u001b[1;33m=\u001b[0m \u001b[0mGaussianNB\u001b[0m\u001b[1;33m(\u001b[0m\u001b[1;33m)\u001b[0m\u001b[1;33m\u001b[0m\u001b[1;33m\u001b[0m\u001b[0m\n\u001b[1;32m---> 19\u001b[1;33m \u001b[0mnb\u001b[0m\u001b[1;33m.\u001b[0m\u001b[0mfit\u001b[0m\u001b[1;33m(\u001b[0m\u001b[0mX_train\u001b[0m\u001b[1;33m,\u001b[0m \u001b[0my_train\u001b[0m\u001b[1;33m)\u001b[0m\u001b[1;33m\u001b[0m\u001b[1;33m\u001b[0m\u001b[0m\n\u001b[0m\u001b[0;32m     20\u001b[0m \u001b[1;33m\u001b[0m\u001b[0m\n\u001b[0;32m     21\u001b[0m \u001b[1;31m# Evaluate Naive Bayes with the Hashing Vectorizer model.\u001b[0m\u001b[1;33m\u001b[0m\u001b[1;33m\u001b[0m\u001b[1;33m\u001b[0m\u001b[0m\n",
      "\u001b[1;32mC:\\ProgramData\\Anaconda3\\lib\\site-packages\\sklearn\\naive_bayes.py\u001b[0m in \u001b[0;36mfit\u001b[1;34m(self, X, y, sample_weight)\u001b[0m\n\u001b[0;32m    210\u001b[0m         \u001b[0mX\u001b[0m\u001b[1;33m,\u001b[0m \u001b[0my\u001b[0m \u001b[1;33m=\u001b[0m \u001b[0mself\u001b[0m\u001b[1;33m.\u001b[0m\u001b[0m_validate_data\u001b[0m\u001b[1;33m(\u001b[0m\u001b[0mX\u001b[0m\u001b[1;33m,\u001b[0m \u001b[0my\u001b[0m\u001b[1;33m)\u001b[0m\u001b[1;33m\u001b[0m\u001b[1;33m\u001b[0m\u001b[0m\n\u001b[0;32m    211\u001b[0m         \u001b[0my\u001b[0m \u001b[1;33m=\u001b[0m \u001b[0mcolumn_or_1d\u001b[0m\u001b[1;33m(\u001b[0m\u001b[0my\u001b[0m\u001b[1;33m,\u001b[0m \u001b[0mwarn\u001b[0m\u001b[1;33m=\u001b[0m\u001b[1;32mTrue\u001b[0m\u001b[1;33m)\u001b[0m\u001b[1;33m\u001b[0m\u001b[1;33m\u001b[0m\u001b[0m\n\u001b[1;32m--> 212\u001b[1;33m         return self._partial_fit(X, y, np.unique(y), _refit=True,\n\u001b[0m\u001b[0;32m    213\u001b[0m                                  sample_weight=sample_weight)\n\u001b[0;32m    214\u001b[0m \u001b[1;33m\u001b[0m\u001b[0m\n",
      "\u001b[1;32mC:\\ProgramData\\Anaconda3\\lib\\site-packages\\sklearn\\naive_bayes.py\u001b[0m in \u001b[0;36m_partial_fit\u001b[1;34m(self, X, y, classes, _refit, sample_weight)\u001b[0m\n\u001b[0;32m    370\u001b[0m         \u001b[1;31m# boost the variance by epsilon, a small fraction of the standard\u001b[0m\u001b[1;33m\u001b[0m\u001b[1;33m\u001b[0m\u001b[1;33m\u001b[0m\u001b[0m\n\u001b[0;32m    371\u001b[0m         \u001b[1;31m# deviation of the largest dimension.\u001b[0m\u001b[1;33m\u001b[0m\u001b[1;33m\u001b[0m\u001b[1;33m\u001b[0m\u001b[0m\n\u001b[1;32m--> 372\u001b[1;33m         \u001b[0mself\u001b[0m\u001b[1;33m.\u001b[0m\u001b[0mepsilon_\u001b[0m \u001b[1;33m=\u001b[0m \u001b[0mself\u001b[0m\u001b[1;33m.\u001b[0m\u001b[0mvar_smoothing\u001b[0m \u001b[1;33m*\u001b[0m \u001b[0mnp\u001b[0m\u001b[1;33m.\u001b[0m\u001b[0mvar\u001b[0m\u001b[1;33m(\u001b[0m\u001b[0mX\u001b[0m\u001b[1;33m,\u001b[0m \u001b[0maxis\u001b[0m\u001b[1;33m=\u001b[0m\u001b[1;36m0\u001b[0m\u001b[1;33m)\u001b[0m\u001b[1;33m.\u001b[0m\u001b[0mmax\u001b[0m\u001b[1;33m(\u001b[0m\u001b[1;33m)\u001b[0m\u001b[1;33m\u001b[0m\u001b[1;33m\u001b[0m\u001b[0m\n\u001b[0m\u001b[0;32m    373\u001b[0m \u001b[1;33m\u001b[0m\u001b[0m\n\u001b[0;32m    374\u001b[0m         \u001b[1;32mif\u001b[0m \u001b[0m_refit\u001b[0m\u001b[1;33m:\u001b[0m\u001b[1;33m\u001b[0m\u001b[1;33m\u001b[0m\u001b[0m\n",
      "\u001b[1;32m<__array_function__ internals>\u001b[0m in \u001b[0;36mvar\u001b[1;34m(*args, **kwargs)\u001b[0m\n",
      "\u001b[1;32mC:\\ProgramData\\Anaconda3\\lib\\site-packages\\numpy\\core\\fromnumeric.py\u001b[0m in \u001b[0;36mvar\u001b[1;34m(a, axis, dtype, out, ddof, keepdims)\u001b[0m\n\u001b[0;32m   3581\u001b[0m             \u001b[1;32mreturn\u001b[0m \u001b[0mvar\u001b[0m\u001b[1;33m(\u001b[0m\u001b[0maxis\u001b[0m\u001b[1;33m=\u001b[0m\u001b[0maxis\u001b[0m\u001b[1;33m,\u001b[0m \u001b[0mdtype\u001b[0m\u001b[1;33m=\u001b[0m\u001b[0mdtype\u001b[0m\u001b[1;33m,\u001b[0m \u001b[0mout\u001b[0m\u001b[1;33m=\u001b[0m\u001b[0mout\u001b[0m\u001b[1;33m,\u001b[0m \u001b[0mddof\u001b[0m\u001b[1;33m=\u001b[0m\u001b[0mddof\u001b[0m\u001b[1;33m,\u001b[0m \u001b[1;33m**\u001b[0m\u001b[0mkwargs\u001b[0m\u001b[1;33m)\u001b[0m\u001b[1;33m\u001b[0m\u001b[1;33m\u001b[0m\u001b[0m\n\u001b[0;32m   3582\u001b[0m \u001b[1;33m\u001b[0m\u001b[0m\n\u001b[1;32m-> 3583\u001b[1;33m     return _methods._var(a, axis=axis, dtype=dtype, out=out, ddof=ddof,\n\u001b[0m\u001b[0;32m   3584\u001b[0m                          **kwargs)\n\u001b[0;32m   3585\u001b[0m \u001b[1;33m\u001b[0m\u001b[0m\n",
      "\u001b[1;32mC:\\ProgramData\\Anaconda3\\lib\\site-packages\\numpy\\core\\_methods.py\u001b[0m in \u001b[0;36m_var\u001b[1;34m(a, axis, dtype, out, ddof, keepdims)\u001b[0m\n\u001b[0;32m    191\u001b[0m     \u001b[1;31m# Note that x may not be inexact and that we need it to be an array,\u001b[0m\u001b[1;33m\u001b[0m\u001b[1;33m\u001b[0m\u001b[1;33m\u001b[0m\u001b[0m\n\u001b[0;32m    192\u001b[0m     \u001b[1;31m# not a scalar.\u001b[0m\u001b[1;33m\u001b[0m\u001b[1;33m\u001b[0m\u001b[1;33m\u001b[0m\u001b[0m\n\u001b[1;32m--> 193\u001b[1;33m     \u001b[0mx\u001b[0m \u001b[1;33m=\u001b[0m \u001b[0masanyarray\u001b[0m\u001b[1;33m(\u001b[0m\u001b[0marr\u001b[0m \u001b[1;33m-\u001b[0m \u001b[0marrmean\u001b[0m\u001b[1;33m)\u001b[0m\u001b[1;33m\u001b[0m\u001b[1;33m\u001b[0m\u001b[0m\n\u001b[0m\u001b[0;32m    194\u001b[0m     \u001b[1;32mif\u001b[0m \u001b[0missubclass\u001b[0m\u001b[1;33m(\u001b[0m\u001b[0marr\u001b[0m\u001b[1;33m.\u001b[0m\u001b[0mdtype\u001b[0m\u001b[1;33m.\u001b[0m\u001b[0mtype\u001b[0m\u001b[1;33m,\u001b[0m \u001b[1;33m(\u001b[0m\u001b[0mnt\u001b[0m\u001b[1;33m.\u001b[0m\u001b[0mfloating\u001b[0m\u001b[1;33m,\u001b[0m \u001b[0mnt\u001b[0m\u001b[1;33m.\u001b[0m\u001b[0minteger\u001b[0m\u001b[1;33m)\u001b[0m\u001b[1;33m)\u001b[0m\u001b[1;33m:\u001b[0m\u001b[1;33m\u001b[0m\u001b[1;33m\u001b[0m\u001b[0m\n\u001b[0;32m    195\u001b[0m         \u001b[0mx\u001b[0m \u001b[1;33m=\u001b[0m \u001b[0mum\u001b[0m\u001b[1;33m.\u001b[0m\u001b[0mmultiply\u001b[0m\u001b[1;33m(\u001b[0m\u001b[0mx\u001b[0m\u001b[1;33m,\u001b[0m \u001b[0mx\u001b[0m\u001b[1;33m,\u001b[0m \u001b[0mout\u001b[0m\u001b[1;33m=\u001b[0m\u001b[0mx\u001b[0m\u001b[1;33m)\u001b[0m\u001b[1;33m\u001b[0m\u001b[1;33m\u001b[0m\u001b[0m\n",
      "\u001b[1;31mMemoryError\u001b[0m: Unable to allocate 18.7 GiB for an array with shape (2399, 1048576) and data type float64"
     ]
    }
   ],
   "source": [
    "# Create the Hashing Vectorizer.\n",
    "hv_vec = HashingVectorizer()\n",
    "\n",
    "# Split the dataset into the training and test sets.\n",
    "X_train, X_test, y_train, y_test = train_test_split(X, y,\n",
    "                                                    test_size = 0.20,\n",
    "                                                    random_state = 0,\n",
    "                                                    shuffle = True,\n",
    "                                                    stratify = y)\n",
    "\n",
    "# Tokenize and build vocabulary to the train set.\n",
    "X_train = hv_vec.fit_transform(X_train).toarray()\n",
    "\n",
    "# Tokenize and build vocabulary to the test set.\n",
    "X_test = hv_vec.transform(X_test).toarray()\n",
    "\n",
    "# Fit Naive Bayes to the training set.\n",
    "nb = GaussianNB()\n",
    "nb.fit(X_train, y_train)\n",
    "\n",
    "# Evaluate Naive Bayes with the Hashing Vectorizer model.\n",
    "eval_clf(nb)"
   ]
  },
  {
   "cell_type": "markdown",
   "metadata": {},
   "source": [
    "**NOTES:**\n",
    "\n",
    "* We get poor performance again for the most of the classes.\n",
    "* It seems that `TfidfVectorizer` performs slightly better in our case, since there are some significant/important words like \"acid\" that makes the difference for the classification. Term Frequency - Inverse Document Frequency (Tfidf) model can identify those words better than the other models. This model will be examined in more detail next.\n",
    "\n",
    "[Go to the top](#top)\n",
    "\n",
    "## Cross Validation <a id='cross-val'></a>\n",
    "\n",
    "A common mistake is to learn the parameters of a prediction algorithm and testing it on the same data. What's wrong with that? We cannot fit the model to our training data and hope it would accurately work for the real data it has never seen before.\n",
    "\n",
    "To avoid this to happen, there are several techniques: we could remove a part of the training data and using it to get predictions from the model trained on rest of the data (= Holdout Method). But, by reducing the training data, we risk losing patterns in data set and increase the error. The k-fold cross validation will help us to solve this problem.\n",
    "\n",
    "In k-fold [cross validation](https://scikit-learn.org/stable/modules/cross_validation.html), we split our data into k separated \"folds\". Then, the Holdout Method is repeated k times, such as each time, one of the k folds will be the test subset and the (k-1) other folds will be used together as the training set. In our multi-class case, we will use a variation of k-fold that returns stratified folds. The folds are made by preserving the percentage of samples for each class.\n",
    "\n",
    "If the original data comes in some sort of sorted shape, a shuffle of the order of the data points is necessary before splitting them up into folds. This can be done in `KFold()`, setting the `shuffle` parameter to `True`. If there are concerns about class imbalance, then the `StratifiedKFold()` class should be used instead. Where `KFold()` assigns points to folds without attention to output class, `StratifiedKFold()` assigns data points to folds so that each fold has approximately the same number of data points of each output class. This is most useful for when we have imbalanced numbers of data points in the outcome classes (e.g. one is rare compared to the others). For this class as well, it can be used `shuffle=True` to shuffle the data points’ order before splitting into folds.\n",
    "\n",
    "The general workflow to apply the Cross Validation is always the same:\n",
    "\n",
    "1. Instanciate the model from scikit-learn.\n",
    "2. Instanciate the `StratifiedKFold()` class with the parameters we want.\n",
    "3. Use the `cross_val_score()` function to measure the performance of the model.\n",
    "\n",
    "## Hyper-Parameter Tuning with Grid Search <a id='gridsearch'></a>\n",
    "\n",
    "One of the most common reasons to do cross validation is to fine tune hyper-parameters. Hyper-parameters are set by the programmer whereas parameters are generated by the model. Most of the learning algorithms require some parameters tuning. It could be the number of trees in Gradient Boosting classifier, hidden layer size or activation functions in a Neural Network, type of kernel in an SVM and many more. We want to find the best parameters for our problem. We do it by trying different values and choosing the best ones. There are many methods to do this. It could be a manual search, a grid search or some more sophisticated optimization. However, in all those cases we can’t do it on our training test and not on our test set of course. We have to use a third set, a validation set.\n",
    "\n",
    "Grid searching is the process of testing different parameter values for a model and selecting the ones that produce the best results. The steps are:\n",
    "\n",
    "1. Load data.\n",
    "2. Make a parameter dictionary.\n",
    "3. Initiate a GridSearch algorithm.\n",
    "4. GridSearch the data.\n",
    "5. Print the results.\n",
    "\n",
    "## Pipelining <a id='pipe'></a>\n",
    "\n",
    "There are many steps required for building a machine learning model. In the case of NLP, the preprocessed text is vectorized, the vectorized data applied to a machine learning model that itself needs to have its parameters grid searched for optimization. A beautiful mess if you need to code it all one after the other, try out different vectorizers or different model parameters. Luckily, Sklearn's `Pipeline` package combines and simplifies it all!\n",
    "\n",
    "[Go to the top](#top)\n",
    "\n",
    "## Put everything in Feature Union <a id='union'></a>\n",
    "\n",
    "`FeatureUnion` combines several transformer objects into a new transformer that combines their output. A `FeatureUnion` takes a list of transformer objects. During fitting, each of these is fit to the data independently. For transforming data, the transformers are applied in parallel, and the sample vectors they output are concatenated end-to-end into larger vectors.\n",
    "\n",
    "**Notes:**\n",
    "\n",
    "- Since, this task requires a vast amount of time, let's keep it simple and search only a few hyper-parameters. Later, when we find the best classifier, we can search more thorougly the hyper-parameters.\n",
    "- Not all scoring methods support multi-class problems. For example, precision is is restricted to a binary classification task. In our case, we will use the weighted f1 evaluation method, which calculates metrics for each label, and finds their average weighted by support (the number of true instances for each label)."
   ]
  },
  {
   "cell_type": "code",
   "execution_count": null,
   "metadata": {},
   "outputs": [],
   "source": [
    "# Set the random_state so we get the same values.\n",
    "RS = 5\n",
    "\n",
    "# Split the dataset into the training and test sets.\n",
    "X_train, X_test, y_train, y_test = train_test_split(X, y,\n",
    "                                                    test_size = 0.20,\n",
    "                                                    random_state = 0,\n",
    "                                                    shuffle = True,\n",
    "                                                    stratify = y)\n",
    "\n",
    "# Create the pipeline object and initialize it with some models.\n",
    "pipe = Pipeline([('vec', TfidfVectorizer()),\n",
    "                 ('clf', LogisticRegression())])\n",
    "\n",
    "# Create a list of candidate classifiers with their hyper-parameters for grid search.\n",
    "search_space = [{'vec': [TfidfVectorizer(sublinear_tf=True, stop_words='english')],\n",
    "                 'vec__max_df': [0.2, 0.5, 0.7, 0.9],\n",
    "                 'vec__ngram_range': [(1, 1), (1, 2), (2, 2)],\n",
    "                 'clf': [LogisticRegression(n_jobs=-1, random_state=RS)],\n",
    "                 'clf__C': [1.0, 5.0]\n",
    "                },\n",
    "                {'vec': [TfidfVectorizer(sublinear_tf=True, stop_words='english')],\n",
    "                 'vec__max_df': [0.2, 0.5, 0.7, 0.9],\n",
    "                 'vec__ngram_range': [(1, 1), (1, 2), (2, 2)],\n",
    "                 'clf': [SVC(random_state=RS, probability=True)],\n",
    "                 'clf__C': [1.0, 10.0]\n",
    "                },\n",
    "                {'vec': [TfidfVectorizer(sublinear_tf=True, stop_words='english')],\n",
    "                 'vec__max_df': [0.2, 0.5, 0.7, 0.9],\n",
    "                 'vec__ngram_range': [(1, 1), (1, 2), (2, 2)],\n",
    "                 'clf': [KNeighborsClassifier(n_jobs=-1)],\n",
    "                 'clf__n_neighbors': [3, 5]\n",
    "                },\n",
    "                {'vec': [TfidfVectorizer(sublinear_tf=True, stop_words='english')],\n",
    "                 'vec__max_df': [0.2, 0.5, 0.7, 0.9],\n",
    "                 'vec__ngram_range': [(1, 1), (1, 2), (2, 2)],\n",
    "                 'clf': [DecisionTreeClassifier(random_state=RS)],\n",
    "                 'clf__min_samples_leaf': [1, 5]\n",
    "                },\n",
    "                {'vec': [TfidfVectorizer(sublinear_tf=True, stop_words='english')],\n",
    "                 'vec__max_df': [0.2, 0.5, 0.7, 0.9],\n",
    "                 'vec__ngram_range': [(1, 1), (1, 2), (2, 2)],\n",
    "                 'clf': [ExtraTreesClassifier(n_jobs=-1, random_state=RS)],\n",
    "                 'clf__n_estimators': [10, 100]\n",
    "                },\n",
    "                {'vec': [TfidfVectorizer(sublinear_tf=True, stop_words='english')],\n",
    "                 'vec__max_df': [0.2, 0.5, 0.7, 0.9],\n",
    "                 'vec__ngram_range': [(1, 1), (1, 2), (2, 2)],\n",
    "                 'clf': [AdaBoostClassifier(random_state=RS)],\n",
    "                 'clf__n_estimators': [10, 50]}]\n",
    "\n",
    "# Create the grid search object.\n",
    "gridsearch = GridSearchCV(pipe, param_grid=search_space, scoring='roc_auc_ovr_weighted',\n",
    "                          cv=5, verbose=3, n_jobs=-1)\n",
    "\n",
    "# Fit grid search.\n",
    "best_model = gridsearch.fit(X_train, y_train)\n",
    "\n",
    "print(best_model.best_estimator_)\n",
    "print( \"\\nBest score:\", best_model.best_score_)\n",
    "print( \"\\nBest parameters:\", best_model.best_params_)"
   ]
  },
  {
   "cell_type": "markdown",
   "metadata": {},
   "source": [
    "[Go to the top](#top)\n",
    "\n",
    "## Examine Grid Search Results <a id='results'></a>\n",
    "\n",
    "Let's visualize the scores of all the combinations tested previously using `GridSearchCV`. We will sort the models by the best score. We can get valuable information with statistics of training times and scores."
   ]
  },
  {
   "cell_type": "code",
   "execution_count": null,
   "metadata": {},
   "outputs": [],
   "source": [
    "# Convert the dictionary of all the combinations from the gridsearch to a Pandas df to visualize it properly.\n",
    "score_results = pd.DataFrame(best_model.cv_results_)\n",
    "\n",
    "# Sort by best model first.\n",
    "score_results.sort_values(by='rank_test_score')"
   ]
  },
  {
   "cell_type": "markdown",
   "metadata": {},
   "source": [
    "[Go to the top](#top)\n",
    "\n",
    "## Train Best Combinations & Plot Results <a id='plot-best'></a>\n",
    "\n",
    "We will train again the best combinations of the previous models and then plot the scores as box plots to check visually the variance between k-fold results. For this case, let's make an assumption that the best hyper-parameters of the `TfidfVectorizer` model are `max_df= 0.2` and `ngram_range = (1, 1)`."
   ]
  },
  {
   "cell_type": "code",
   "execution_count": null,
   "metadata": {},
   "outputs": [],
   "source": [
    "# Split the dataset into the training and test sets.\n",
    "X_train, X_test, y_train, y_test = train_test_split(X, y,\n",
    "                                                    test_size = 0.20,\n",
    "                                                    random_state = 0,\n",
    "                                                    shuffle = True,\n",
    "                                                    stratify = y)\n",
    "\n",
    "# Create the TF-IDF Vectorizer.\n",
    "tfidf_vec = TfidfVectorizer(sublinear_tf=True,\n",
    "                            ngram_range = (1, 1),\n",
    "                            max_df=0.2, # Ignoring terms that appear in more than 50% of the documents.\n",
    "                            stop_words='english')\n",
    "\n",
    "# Tokenize and build vocabulary to the train set.\n",
    "X_train = tfidf_vec.fit_transform(X_train)\n",
    "\n",
    "# Tokenize and build vocabulary to the test set.\n",
    "X_test = tfidf_vec.transform(X_test)\n",
    "\n",
    "# Set the models to search.\n",
    "models = [LogisticRegression(n_jobs=-1, random_state=RS, C=1.0),\n",
    "          SVC(random_state=RS, C=10.0, probability=True),\n",
    "          KNeighborsClassifier(n_jobs=-1, n_neighbors=3),\n",
    "          DecisionTreeClassifier(random_state=RS, min_samples_leaf=1),\n",
    "          ExtraTreesClassifier(n_jobs=-1, random_state=RS, n_estimators=100),\n",
    "          AdaBoostClassifier(random_state=RS, n_estimators=50)]\n",
    "\n",
    "# Set the number of folds for cross validation.\n",
    "CV = 5\n",
    "\n",
    "cv_df = pd.DataFrame(index=range(CV * len(models)))\n",
    "\n",
    "entries = []\n",
    "for model in models:\n",
    "    model_name = model.__class__.__name__\n",
    "    accuracies = cross_val_score(model, X_train, y_train, scoring='roc_auc_ovr_weighted', cv=CV)\n",
    "    for fold_idx, accuracy in enumerate(accuracies):\n",
    "        entries.append((model_name, fold_idx, accuracy))\n",
    "\n",
    "cv_df = pd.DataFrame(entries, columns=['Classifier', 'fold_idx', 'roc_auc_ovr_weighted'])\n",
    "\n",
    "# Plot the results.\n",
    "box_loc = cv_df[['Classifier', 'roc_auc_ovr_weighted']]\n",
    "box_loc.pivot(columns='Classifier', values='roc_auc_ovr_weighted').iplot(kind='box',\n",
    "                                                                         title='Classifiers Performance')"
   ]
  },
  {
   "cell_type": "markdown",
   "metadata": {},
   "source": [
    "[Go to the top](#top)\n",
    "\n",
    "## Optimize Best Model <a id='optim-best'></a>\n",
    "\n",
    "From the previous cross validation investigation it was found that Logistic Regression performed relatively better score and it was quite faster than other algorithms. Next, we will try to tune in more detail the algorithm's hyper-parameters to obtain better performance."
   ]
  },
  {
   "cell_type": "code",
   "execution_count": null,
   "metadata": {},
   "outputs": [],
   "source": [
    "# Split the dataset into the training and test sets.\n",
    "X_train, X_test, y_train, y_test = train_test_split(X, y,\n",
    "                                                    test_size = 0.20,\n",
    "                                                    random_state = 0,\n",
    "                                                    shuffle = True,\n",
    "                                                    stratify = y)\n",
    "\n",
    "# Create the pipeline object and initialize it with some models.\n",
    "pipe = Pipeline([('vec', TfidfVectorizer()),\n",
    "                 ('clf', LogisticRegression())])\n",
    "\n",
    "# Create a list of candidate classifiers with their hyper-parameters for grid search.\n",
    "search_space = [{'vec': [TfidfVectorizer(sublinear_tf=True, stop_words='english')],\n",
    "                 'vec__max_df': [0.2, 0.5, 0.7, 0.9],\n",
    "                 'vec__ngram_range': [(1, 1), (1, 2), (2, 2)],\n",
    "                 'clf': [LogisticRegression(n_jobs=-1, random_state=RS)],\n",
    "                 'clf__C': [0.1, 0.2, 0.5, 1.0, 3.0, 5.0],\n",
    "                 'clf__fit_intercept' : [True, False]\n",
    "                }]\n",
    "\n",
    "# Create the grid search object.\n",
    "gridsearch = GridSearchCV(pipe, param_grid=search_space, scoring='roc_auc_ovr_weighted',\n",
    "                          cv=5, verbose=3, n_jobs=-1)\n",
    "\n",
    "\n",
    "# Fit grid search.\n",
    "best_model = gridsearch.fit(X_train, y_train)\n",
    "\n",
    "print(best_model.best_estimator_)\n",
    "print( \"\\nBest score:\", best_model.best_score_)\n",
    "print( \"\\nBest parameters:\", best_model.best_params_)"
   ]
  },
  {
   "cell_type": "markdown",
   "metadata": {},
   "source": [
    "Slightly better results, but still very low performance. We will run again the algorithm with the best parameters found previously and export the evaluation metrics.\n",
    "\n",
    "[Go to the top](#top)"
   ]
  },
  {
   "cell_type": "code",
   "execution_count": null,
   "metadata": {},
   "outputs": [],
   "source": [
    "# Split the dataset into the training and test sets.\n",
    "X_train, X_test, y_train, y_test = train_test_split(X, y,\n",
    "                                                    test_size = 0.20,\n",
    "                                                    random_state = 0,\n",
    "                                                    shuffle = True,\n",
    "                                                    stratify = y)\n",
    "\n",
    "# Create the TF-IDF Vectorizer.\n",
    "tfidf_vec = TfidfVectorizer(sublinear_tf=True,\n",
    "                            ngram_range = (1, 1),\n",
    "                            max_df=0.2, # Ignoring terms that appear in more than 50% of the documents.\n",
    "                            stop_words='english')\n",
    "\n",
    "# Tokenize and build vocabulary to the train set.\n",
    "X_train = tfidf_vec.fit_transform(X_train)\n",
    "\n",
    "# Tokenize and build vocabulary to the test set.\n",
    "X_test = tfidf_vec.transform(X_test)\n",
    "\n",
    "# Fit Logistic Regression to the training set.\n",
    "lg = LogisticRegression(random_state = RS, C=1.0, fit_intercept=False)\n",
    "lg.fit(X_train, y_train)\n",
    "\n",
    "# Evaluate model.\n",
    "eval_clf(lg)"
   ]
  },
  {
   "cell_type": "markdown",
   "metadata": {},
   "source": [
    "[Go to the top](#top)\n",
    "\n",
    "### Most Important Features <a id='feats'></a>\n",
    "\n",
    "Let's see what's the most important words."
   ]
  },
  {
   "cell_type": "code",
   "execution_count": null,
   "metadata": {},
   "outputs": [],
   "source": [
    "feature_names = tfidf_vec.get_feature_names()\n",
    "\n",
    "top_features = sorted(zip(lg.coef_[0], feature_names))[-10:]\n",
    "for coef, feat in top_features:\n",
    "    print('{0:20s} {1:f}'.format(feat, coef))"
   ]
  },
  {
   "cell_type": "markdown",
   "metadata": {},
   "source": [
    "[Go to the top](#top)\n",
    "\n",
    "## Export Data <a id='export'></a>\n",
    "\n",
    "Finally, we will create a dataframe of the predicted and actual values side by side and then export them to a CSV file for further use."
   ]
  },
  {
   "cell_type": "code",
   "execution_count": null,
   "metadata": {},
   "outputs": [],
   "source": [
    "# Make predictions.\n",
    "y_pred = lg.predict(X_test)\n",
    "\n",
    "# Create a df of the predicted and actual values.\n",
    "results = pd.DataFrame({'y_test': y_test, 'y_pred': y_pred})\n",
    "\n",
    "# Show first rows.\n",
    "display(results.head())\n",
    "\n",
    "# Save to CSV.\n",
    "results.to_csv('results.csv')"
   ]
  },
  {
   "cell_type": "code",
   "execution_count": null,
   "metadata": {},
   "outputs": [],
   "source": []
  },
  {
   "cell_type": "code",
   "execution_count": null,
   "metadata": {},
   "outputs": [],
   "source": []
  }
 ],
 "metadata": {
  "kernelspec": {
   "display_name": "Python 3",
   "language": "python",
   "name": "python3"
  },
  "language_info": {
   "codemirror_mode": {
    "name": "ipython",
    "version": 3
   },
   "file_extension": ".py",
   "mimetype": "text/x-python",
   "name": "python",
   "nbconvert_exporter": "python",
   "pygments_lexer": "ipython3",
   "version": "3.8.3"
  }
 },
 "nbformat": 4,
 "nbformat_minor": 4
}
