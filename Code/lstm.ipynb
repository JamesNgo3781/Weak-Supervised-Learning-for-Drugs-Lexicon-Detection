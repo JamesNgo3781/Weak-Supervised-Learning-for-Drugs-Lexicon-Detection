{
  "nbformat": 4,
  "nbformat_minor": 0,
  "metadata": {
    "colab": {
      "name": "Untitled1.ipynb",
      "provenance": [],
      "collapsed_sections": []
    },
    "kernelspec": {
      "name": "python3",
      "display_name": "Python 3"
    },
    "widgets": {
      "application/vnd.jupyter.widget-state+json": {
        "773b6a91003f4874964c7688fe265571": {
          "model_module": "@jupyter-widgets/controls",
          "model_name": "HBoxModel",
          "state": {
            "_view_name": "HBoxView",
            "_dom_classes": [],
            "_model_name": "HBoxModel",
            "_view_module": "@jupyter-widgets/controls",
            "_model_module_version": "1.5.0",
            "_view_count": null,
            "_view_module_version": "1.5.0",
            "box_style": "",
            "layout": "IPY_MODEL_78cbab5dbfcd48d3a480c7c435ed6ce6",
            "_model_module": "@jupyter-widgets/controls",
            "children": [
              "IPY_MODEL_32c02b3b3477404e9be42ee255663f95",
              "IPY_MODEL_6635b49e2534445a9b517ef0cc36b474"
            ]
          }
        },
        "78cbab5dbfcd48d3a480c7c435ed6ce6": {
          "model_module": "@jupyter-widgets/base",
          "model_name": "LayoutModel",
          "state": {
            "_view_name": "LayoutView",
            "grid_template_rows": null,
            "right": null,
            "justify_content": null,
            "_view_module": "@jupyter-widgets/base",
            "overflow": null,
            "_model_module_version": "1.2.0",
            "_view_count": null,
            "flex_flow": null,
            "width": null,
            "min_width": null,
            "border": null,
            "align_items": null,
            "bottom": null,
            "_model_module": "@jupyter-widgets/base",
            "top": null,
            "grid_column": null,
            "overflow_y": null,
            "overflow_x": null,
            "grid_auto_flow": null,
            "grid_area": null,
            "grid_template_columns": null,
            "flex": null,
            "_model_name": "LayoutModel",
            "justify_items": null,
            "grid_row": null,
            "max_height": null,
            "align_content": null,
            "visibility": null,
            "align_self": null,
            "height": null,
            "min_height": null,
            "padding": null,
            "grid_auto_rows": null,
            "grid_gap": null,
            "max_width": null,
            "order": null,
            "_view_module_version": "1.2.0",
            "grid_template_areas": null,
            "object_position": null,
            "object_fit": null,
            "grid_auto_columns": null,
            "margin": null,
            "display": null,
            "left": null
          }
        },
        "32c02b3b3477404e9be42ee255663f95": {
          "model_module": "@jupyter-widgets/controls",
          "model_name": "FloatProgressModel",
          "state": {
            "_view_name": "ProgressView",
            "style": "IPY_MODEL_7b8450d618594692af88ce2894517ce0",
            "_dom_classes": [],
            "description": "100%",
            "_model_name": "FloatProgressModel",
            "bar_style": "success",
            "max": 329,
            "_view_module": "@jupyter-widgets/controls",
            "_model_module_version": "1.5.0",
            "value": 329,
            "_view_count": null,
            "_view_module_version": "1.5.0",
            "orientation": "horizontal",
            "min": 0,
            "description_tooltip": null,
            "_model_module": "@jupyter-widgets/controls",
            "layout": "IPY_MODEL_067e445c4ec9468d9fc35e91c02400b6"
          }
        },
        "6635b49e2534445a9b517ef0cc36b474": {
          "model_module": "@jupyter-widgets/controls",
          "model_name": "HTMLModel",
          "state": {
            "_view_name": "HTMLView",
            "style": "IPY_MODEL_1ad97da5380f4e09bb271d26c21bd497",
            "_dom_classes": [],
            "description": "",
            "_model_name": "HTMLModel",
            "placeholder": "​",
            "_view_module": "@jupyter-widgets/controls",
            "_model_module_version": "1.5.0",
            "value": " 329/329 [00:07&lt;00:00, 46.14it/s]",
            "_view_count": null,
            "_view_module_version": "1.5.0",
            "description_tooltip": null,
            "_model_module": "@jupyter-widgets/controls",
            "layout": "IPY_MODEL_4b6963319f124af686e931de72315944"
          }
        },
        "7b8450d618594692af88ce2894517ce0": {
          "model_module": "@jupyter-widgets/controls",
          "model_name": "ProgressStyleModel",
          "state": {
            "_view_name": "StyleView",
            "_model_name": "ProgressStyleModel",
            "description_width": "initial",
            "_view_module": "@jupyter-widgets/base",
            "_model_module_version": "1.5.0",
            "_view_count": null,
            "_view_module_version": "1.2.0",
            "bar_color": null,
            "_model_module": "@jupyter-widgets/controls"
          }
        },
        "067e445c4ec9468d9fc35e91c02400b6": {
          "model_module": "@jupyter-widgets/base",
          "model_name": "LayoutModel",
          "state": {
            "_view_name": "LayoutView",
            "grid_template_rows": null,
            "right": null,
            "justify_content": null,
            "_view_module": "@jupyter-widgets/base",
            "overflow": null,
            "_model_module_version": "1.2.0",
            "_view_count": null,
            "flex_flow": null,
            "width": null,
            "min_width": null,
            "border": null,
            "align_items": null,
            "bottom": null,
            "_model_module": "@jupyter-widgets/base",
            "top": null,
            "grid_column": null,
            "overflow_y": null,
            "overflow_x": null,
            "grid_auto_flow": null,
            "grid_area": null,
            "grid_template_columns": null,
            "flex": null,
            "_model_name": "LayoutModel",
            "justify_items": null,
            "grid_row": null,
            "max_height": null,
            "align_content": null,
            "visibility": null,
            "align_self": null,
            "height": null,
            "min_height": null,
            "padding": null,
            "grid_auto_rows": null,
            "grid_gap": null,
            "max_width": null,
            "order": null,
            "_view_module_version": "1.2.0",
            "grid_template_areas": null,
            "object_position": null,
            "object_fit": null,
            "grid_auto_columns": null,
            "margin": null,
            "display": null,
            "left": null
          }
        },
        "1ad97da5380f4e09bb271d26c21bd497": {
          "model_module": "@jupyter-widgets/controls",
          "model_name": "DescriptionStyleModel",
          "state": {
            "_view_name": "StyleView",
            "_model_name": "DescriptionStyleModel",
            "description_width": "",
            "_view_module": "@jupyter-widgets/base",
            "_model_module_version": "1.5.0",
            "_view_count": null,
            "_view_module_version": "1.2.0",
            "_model_module": "@jupyter-widgets/controls"
          }
        },
        "4b6963319f124af686e931de72315944": {
          "model_module": "@jupyter-widgets/base",
          "model_name": "LayoutModel",
          "state": {
            "_view_name": "LayoutView",
            "grid_template_rows": null,
            "right": null,
            "justify_content": null,
            "_view_module": "@jupyter-widgets/base",
            "overflow": null,
            "_model_module_version": "1.2.0",
            "_view_count": null,
            "flex_flow": null,
            "width": null,
            "min_width": null,
            "border": null,
            "align_items": null,
            "bottom": null,
            "_model_module": "@jupyter-widgets/base",
            "top": null,
            "grid_column": null,
            "overflow_y": null,
            "overflow_x": null,
            "grid_auto_flow": null,
            "grid_area": null,
            "grid_template_columns": null,
            "flex": null,
            "_model_name": "LayoutModel",
            "justify_items": null,
            "grid_row": null,
            "max_height": null,
            "align_content": null,
            "visibility": null,
            "align_self": null,
            "height": null,
            "min_height": null,
            "padding": null,
            "grid_auto_rows": null,
            "grid_gap": null,
            "max_width": null,
            "order": null,
            "_view_module_version": "1.2.0",
            "grid_template_areas": null,
            "object_position": null,
            "object_fit": null,
            "grid_auto_columns": null,
            "margin": null,
            "display": null,
            "left": null
          }
        }
      }
    }
  },
  "cells": [
    {
      "cell_type": "code",
      "metadata": {
        "id": "iRHW-n78NnVd"
      },
      "source": [
        "!pip install -q tfds-nightly\n",
        "!pip install nltk\n",
        "import tensorflow_datasets as tfds\n",
        "import tensorflow as tf\n",
        "from tensorflow.keras import regularizers, initializers, optimizers, callbacks\n",
        "from tensorflow.keras.preprocessing.sequence import pad_sequences\n",
        "from tensorflow.keras.preprocessing.text import Tokenizer\n",
        "from keras.utils.np_utils import to_categorical\n",
        "from tensorflow.keras.layers import *\n",
        "from tensorflow.keras.models import Model\n",
        "import pandas as pd\n",
        "import numpy as np\n",
        "import re\n",
        "from tqdm import tqdm_notebook\n",
        "import nltk\n",
        "nltk.download('stopwords')\n",
        "from sklearn.model_selection import train_test_split"
      ],
      "execution_count": 31,
      "outputs": []
    },
    {
      "cell_type": "code",
      "metadata": {
        "id": "6XKlJiDDON2c",
        "outputId": "57bf9fc0-60f0-44be-cf61-d1ed2844ee23",
        "colab": {
          "base_uri": "https://localhost:8080/",
          "height": 197
        }
      },
      "source": [
        "df = pd.read_csv('train.csv', header = None)\n",
        "train = df\n",
        "labels = [2,3]\n",
        "y = train[labels].values"
      ],
      "execution_count": 233,
      "outputs": [
        {
          "output_type": "execute_result",
          "data": {
            "text/html": [
              "<div>\n",
              "<style scoped>\n",
              "    .dataframe tbody tr th:only-of-type {\n",
              "        vertical-align: middle;\n",
              "    }\n",
              "\n",
              "    .dataframe tbody tr th {\n",
              "        vertical-align: top;\n",
              "    }\n",
              "\n",
              "    .dataframe thead th {\n",
              "        text-align: right;\n",
              "    }\n",
              "</style>\n",
              "<table border=\"1\" class=\"dataframe\">\n",
              "  <thead>\n",
              "    <tr style=\"text-align: right;\">\n",
              "      <th></th>\n",
              "      <th>0</th>\n",
              "      <th>1</th>\n",
              "      <th>2</th>\n",
              "      <th>3</th>\n",
              "    </tr>\n",
              "  </thead>\n",
              "  <tbody>\n",
              "    <tr>\n",
              "      <th>0</th>\n",
              "      <td>agangsta</td>\n",
              "      <td>A gangsta is usually someone who has money but...</td>\n",
              "      <td>0</td>\n",
              "      <td>1</td>\n",
              "    </tr>\n",
              "    <tr>\n",
              "      <th>1</th>\n",
              "      <td>alza</td>\n",
              "      <td>Alma is a word used to describe something craz...</td>\n",
              "      <td>1</td>\n",
              "      <td>0</td>\n",
              "    </tr>\n",
              "    <tr>\n",
              "      <th>2</th>\n",
              "      <td>anarchy</td>\n",
              "      <td>Anarchism is possibly the most misunderstood p...</td>\n",
              "      <td>0</td>\n",
              "      <td>1</td>\n",
              "    </tr>\n",
              "    <tr>\n",
              "      <th>3</th>\n",
              "      <td>anxiety</td>\n",
              "      <td>A small word which can describe a large set of...</td>\n",
              "      <td>0</td>\n",
              "      <td>1</td>\n",
              "    </tr>\n",
              "    <tr>\n",
              "      <th>4</th>\n",
              "      <td>aye</td>\n",
              "      <td>A word that Mexican want to be gangsters use a...</td>\n",
              "      <td>0</td>\n",
              "      <td>1</td>\n",
              "    </tr>\n",
              "  </tbody>\n",
              "</table>\n",
              "</div>"
            ],
            "text/plain": [
              "          0                                                  1  2  3\n",
              "0  agangsta  A gangsta is usually someone who has money but...  0  1\n",
              "1      alza  Alma is a word used to describe something craz...  1  0\n",
              "2   anarchy  Anarchism is possibly the most misunderstood p...  0  1\n",
              "3   anxiety  A small word which can describe a large set of...  0  1\n",
              "4       aye  A word that Mexican want to be gangsters use a...  0  1"
            ]
          },
          "metadata": {
            "tags": []
          },
          "execution_count": 233
        }
      ]
    },
    {
      "cell_type": "code",
      "metadata": {
        "id": "dG_zMMIxQUqw",
        "outputId": "a05193b4-91b8-489f-9985-b207f8142ef6",
        "colab": {
          "base_uri": "https://localhost:8080/",
          "height": 173,
          "referenced_widgets": [
            "773b6a91003f4874964c7688fe265571",
            "78cbab5dbfcd48d3a480c7c435ed6ce6",
            "32c02b3b3477404e9be42ee255663f95",
            "6635b49e2534445a9b517ef0cc36b474",
            "7b8450d618594692af88ce2894517ce0",
            "067e445c4ec9468d9fc35e91c02400b6",
            "1ad97da5380f4e09bb271d26c21bd497",
            "4b6963319f124af686e931de72315944"
          ]
        }
      },
      "source": [
        "def clean_text(text, remove_stopwords = True):\n",
        "    output = \"\"\n",
        "    text = str(text).replace(\"\\n\", \"\")\n",
        "    text = re.sub(r'[^\\w\\s]','',text).lower()\n",
        "    text = re.sub('[0-9]', '', text)\n",
        "    if remove_stopwords:\n",
        "        text = text.split(\" \")\n",
        "        for word in text:\n",
        "            if word not in stopwords.words(\"english\"):\n",
        "                output = output + \" \" + word\n",
        "    else:\n",
        "        output = text\n",
        "    return str(output.strip())[1:-3].replace(\"  \", \" \")\n",
        "text_train = train[1]\n",
        "text_train = list(text_train)\n",
        "texts = [] \n",
        "for line in tqdm_notebook(text_train): \n",
        "    texts.append(clean_text(line))"
      ],
      "execution_count": 243,
      "outputs": [
        {
          "output_type": "stream",
          "text": [
            "Requirement already satisfied: nltk in /usr/local/lib/python3.6/dist-packages (3.2.5)\n",
            "Requirement already satisfied: six in /usr/local/lib/python3.6/dist-packages (from nltk) (1.15.0)\n",
            "[nltk_data] Downloading package stopwords to /root/nltk_data...\n",
            "[nltk_data]   Package stopwords is already up-to-date!\n"
          ],
          "name": "stdout"
        },
        {
          "output_type": "stream",
          "text": [
            "/usr/local/lib/python3.6/dist-packages/ipykernel_launcher.py:29: TqdmDeprecationWarning: This function will be removed in tqdm==5.0.0\n",
            "Please use `tqdm.notebook.tqdm` instead of `tqdm.tqdm_notebook`\n"
          ],
          "name": "stderr"
        },
        {
          "output_type": "display_data",
          "data": {
            "application/vnd.jupyter.widget-view+json": {
              "model_id": "773b6a91003f4874964c7688fe265571",
              "version_minor": 0,
              "version_major": 2
            },
            "text/plain": [
              "HBox(children=(FloatProgress(value=0.0, max=329.0), HTML(value='')))"
            ]
          },
          "metadata": {
            "tags": []
          }
        },
        {
          "output_type": "stream",
          "text": [
            "\n"
          ],
          "name": "stdout"
        }
      ]
    },
    {
      "cell_type": "code",
      "metadata": {
        "id": "Znq-rggVXJqn",
        "outputId": "c2ffcc42-565d-40b7-c44d-d1a747cff6b1",
        "colab": {
          "base_uri": "https://localhost:8080/",
          "height": 34
        }
      },
      "source": [
        "\n",
        "tokenizer = Tokenizer(num_words=100000)\n",
        "tokenizer.fit_on_texts(texts)\n",
        "sequences = tokenizer.texts_to_sequences(texts)\n",
        "word_index = tokenizer.word_index\n",
        "data = pad_sequences(sequences, padding = 'post', maxlen = 250)"
      ],
      "execution_count": 244,
      "outputs": [
        {
          "output_type": "stream",
          "text": [
            "Vocabulary size: 5234\n"
          ],
          "name": "stdout"
        }
      ]
    },
    {
      "cell_type": "code",
      "metadata": {
        "id": "SJK1o5lqagHD"
      },
      "source": [
        "indices = np.arange(data.shape[0])\n",
        "np.random.shuffle(indices)\n",
        "data = data[indices]\n",
        "labels = y[indices]"
      ],
      "execution_count": 245,
      "outputs": []
    },
    {
      "cell_type": "code",
      "metadata": {
        "id": "Bippg0g4lH24"
      },
      "source": [
        "num_validation_samples = int(0.3*data.shape[0])\n",
        "x_train = data[: -num_validation_samples].astype('float64')\n",
        "y_train = labels[: -num_validation_samples].astype('float64')\n",
        "x_val = data[-num_validation_samples: ].astype('float64')\n",
        "y_val = labels[-num_validation_samples: ].astype('float64')"
      ],
      "execution_count": 255,
      "outputs": []
    },
    {
      "cell_type": "code",
      "metadata": {
        "id": "AVBQN-xTatd7",
        "outputId": "ab4cf21c-52b6-4f1d-eb9c-091123085d7d",
        "colab": {
          "base_uri": "https://localhost:8080/",
          "height": 34
        }
      },
      "source": [
        "embeddings_index = {}\n",
        "f = open(\"glove.6B.\"+str(50)+\"d.txt\")\n",
        "for line in f:\n",
        "    values = line.split()\n",
        "    word = values[0]\n",
        "    embeddings_index[word] = np.asarray(values[1:], dtype='float32')\n",
        "f.close()\n",
        "embedding_matrix = np.random.random((len(word_index) + 1, 50))\n",
        "for word, i in word_index.items():\n",
        "    embedding_vector = embeddings_index.get(word)\n",
        "    if embedding_vector is not None:\n",
        "        embedding_matrix[i] = embedding_vector"
      ],
      "execution_count": 335,
      "outputs": [
        {
          "output_type": "stream",
          "text": [
            "Loading GloVe from: glove.6B.50d.txt ..."
          ],
          "name": "stdout"
        }
      ]
    },
    {
      "cell_type": "code",
      "metadata": {
        "id": "PZzfbspFMVQF"
      },
      "source": [
        ""
      ],
      "execution_count": null,
      "outputs": []
    },
    {
      "cell_type": "code",
      "metadata": {
        "id": "xpEmcdJ8kmqa",
        "outputId": "55338a37-add6-4a59-bc29-a32fda605533",
        "colab": {
          "base_uri": "https://localhost:8080/",
          "height": 34
        }
      },
      "source": [
        "sequence_input = Input(shape=(250,), dtype='int32')\n",
        "embedding_layer = Embedding(len(word_index) + 1,\n",
        "                           50,\n",
        "                           weights = [embedding_matrix],\n",
        "                           input_length = 250,\n",
        "                           trainable=False,\n",
        "                           name = 'embeddings')\n",
        "embedded_sequences = embedding_layer(sequence_input)\n",
        "embedding_matrix.shape"
      ],
      "execution_count": 336,
      "outputs": [
        {
          "output_type": "execute_result",
          "data": {
            "text/plain": [
              "(11107, 50)"
            ]
          },
          "metadata": {
            "tags": []
          },
          "execution_count": 336
        }
      ]
    },
    {
      "cell_type": "code",
      "metadata": {
        "id": "nKgFuelXk2LL"
      },
      "source": [
        "x = LSTM(50, return_sequences=True,name='lstm_layer')(embedded_sequences)\n",
        "x = GlobalMaxPool1D()(x)\n",
        "x = Dropout(0.2)(x)\n",
        "preds = Dense(2, activation=\"softmax\")(x)"
      ],
      "execution_count": 337,
      "outputs": []
    },
    {
      "cell_type": "code",
      "metadata": {
        "id": "b1jL-y92k5Ke",
        "outputId": "299e5300-c5a7-4b25-a088-fca4bbc914e6",
        "colab": {
          "base_uri": "https://localhost:8080/",
          "height": 372
        }
      },
      "source": [
        "model = Model(sequence_input, preds)\n",
        "model.compile(loss = 'binary_crossentropy',\n",
        "             optimizer='adam',\n",
        "             metrics = ['accuracy'])"
      ],
      "execution_count": 338,
      "outputs": [
        {
          "output_type": "stream",
          "text": [
            "Model: \"functional_1\"\n",
            "_________________________________________________________________\n",
            "Layer (type)                 Output Shape              Param #   \n",
            "=================================================================\n",
            "input_1 (InputLayer)         [(None, 250)]             0         \n",
            "_________________________________________________________________\n",
            "embeddings (Embedding)       (None, 250, 50)           555350    \n",
            "_________________________________________________________________\n",
            "lstm_layer (LSTM)            (None, 250, 50)           20200     \n",
            "_________________________________________________________________\n",
            "global_max_pooling1d (Global (None, 50)                0         \n",
            "_________________________________________________________________\n",
            "dropout (Dropout)            (None, 50)                0         \n",
            "_________________________________________________________________\n",
            "dense (Dense)                (None, 2)                 102       \n",
            "=================================================================\n",
            "Total params: 575,652\n",
            "Trainable params: 20,302\n",
            "Non-trainable params: 555,350\n",
            "_________________________________________________________________\n"
          ],
          "name": "stdout"
        }
      ]
    },
    {
      "cell_type": "markdown",
      "metadata": {
        "id": "Kyt8g7JgkgYG"
      },
      "source": [
        ""
      ]
    },
    {
      "cell_type": "code",
      "metadata": {
        "id": "eyCjaTBlk-LO",
        "outputId": "95180805-3ca4-4b90-e317-eb541115f621",
        "colab": {
          "base_uri": "https://localhost:8080/",
          "height": 727
        }
      },
      "source": [
        "history = model.fit(x_train, y_train, epochs = 20, batch_size= 8, validation_data=(x_val, y_val))"
      ],
      "execution_count": 386,
      "outputs": [
        {
          "output_type": "stream",
          "text": [
            "Epoch 1/20\n",
            "29/29 [==============================] - 3s 91ms/step - loss: 0.1358 - accuracy: 0.9567 - val_loss: 0.6611 - val_accuracy: 0.7551\n",
            "Epoch 2/20\n",
            "29/29 [==============================] - 3s 94ms/step - loss: 0.1346 - accuracy: 0.9610 - val_loss: 0.6953 - val_accuracy: 0.7245\n",
            "Epoch 3/20\n",
            "29/29 [==============================] - 3s 91ms/step - loss: 0.0887 - accuracy: 0.9870 - val_loss: 0.8173 - val_accuracy: 0.7551\n",
            "Epoch 4/20\n",
            "29/29 [==============================] - 3s 91ms/step - loss: 0.0723 - accuracy: 0.9784 - val_loss: 0.8749 - val_accuracy: 0.7755\n",
            "Epoch 5/20\n",
            "29/29 [==============================] - 3s 92ms/step - loss: 0.1549 - accuracy: 0.9697 - val_loss: 0.7371 - val_accuracy: 0.7551\n",
            "Epoch 6/20\n",
            "29/29 [==============================] - 3s 93ms/step - loss: 0.1004 - accuracy: 0.9697 - val_loss: 0.8372 - val_accuracy: 0.7347\n",
            "Epoch 7/20\n",
            "29/29 [==============================] - 3s 90ms/step - loss: 0.0740 - accuracy: 0.9870 - val_loss: 0.7684 - val_accuracy: 0.7245\n",
            "Epoch 8/20\n",
            "29/29 [==============================] - 3s 91ms/step - loss: 0.0621 - accuracy: 0.9913 - val_loss: 0.7681 - val_accuracy: 0.7551\n",
            "Epoch 9/20\n",
            "29/29 [==============================] - 3s 91ms/step - loss: 0.0547 - accuracy: 0.9957 - val_loss: 0.9140 - val_accuracy: 0.7143\n",
            "Epoch 10/20\n",
            "29/29 [==============================] - 3s 94ms/step - loss: 0.0447 - accuracy: 0.9870 - val_loss: 0.9759 - val_accuracy: 0.7041\n",
            "Epoch 11/20\n",
            "29/29 [==============================] - 3s 92ms/step - loss: 0.0391 - accuracy: 0.9913 - val_loss: 1.0001 - val_accuracy: 0.6939\n",
            "Epoch 12/20\n",
            "29/29 [==============================] - 3s 92ms/step - loss: 0.0329 - accuracy: 0.9957 - val_loss: 0.9953 - val_accuracy: 0.7143\n",
            "Epoch 13/20\n",
            "29/29 [==============================] - 3s 91ms/step - loss: 0.0236 - accuracy: 0.9957 - val_loss: 1.0492 - val_accuracy: 0.7245\n",
            "Epoch 14/20\n",
            "29/29 [==============================] - 3s 95ms/step - loss: 0.0295 - accuracy: 0.9957 - val_loss: 1.0698 - val_accuracy: 0.7143\n",
            "Epoch 15/20\n",
            "29/29 [==============================] - 3s 91ms/step - loss: 0.0233 - accuracy: 0.9957 - val_loss: 1.1418 - val_accuracy: 0.7347\n",
            "Epoch 16/20\n",
            "29/29 [==============================] - 3s 92ms/step - loss: 0.0160 - accuracy: 1.0000 - val_loss: 1.1077 - val_accuracy: 0.7551\n",
            "Epoch 17/20\n",
            "29/29 [==============================] - 3s 92ms/step - loss: 0.0818 - accuracy: 0.9697 - val_loss: 1.1584 - val_accuracy: 0.6837\n",
            "Epoch 18/20\n",
            "29/29 [==============================] - 3s 94ms/step - loss: 0.1376 - accuracy: 0.9524 - val_loss: 0.7480 - val_accuracy: 0.7551\n",
            "Epoch 19/20\n",
            "29/29 [==============================] - 3s 94ms/step - loss: 0.0460 - accuracy: 0.9957 - val_loss: 0.7957 - val_accuracy: 0.7551\n",
            "Epoch 20/20\n",
            "29/29 [==============================] - 3s 94ms/step - loss: 0.0248 - accuracy: 1.0000 - val_loss: 0.8208 - val_accuracy: 0.7857\n"
          ],
          "name": "stdout"
        }
      ]
    },
    {
      "cell_type": "code",
      "metadata": {
        "id": "TtaeWybQq-VO",
        "outputId": "5bec1c31-6b51-4f09-c581-0a3f16f740e9",
        "colab": {
          "base_uri": "https://localhost:8080/",
          "height": 34
        }
      },
      "source": [
        "model.evaluate(x_train, y_train, verbose=0)"
      ],
      "execution_count": 341,
      "outputs": [
        {
          "output_type": "execute_result",
          "data": {
            "text/plain": [
              "[0.1262337863445282, 0.9740259647369385]"
            ]
          },
          "metadata": {
            "tags": []
          },
          "execution_count": 341
        }
      ]
    }
  ]
}